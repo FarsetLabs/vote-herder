{
 "cells": [
  {
   "cell_type": "code",
   "execution_count": 1,
   "id": "2b8a7bd4",
   "metadata": {
    "pycharm": {
     "name": "#%%\n"
    }
   },
   "outputs": [
    {
     "name": "stderr",
     "output_type": "stream",
     "text": [
      "WARNING: You are using pip version 21.3.1; however, version 22.0.4 is available."
     ]
    },
    {
     "name": "stdout",
     "output_type": "stream",
     "text": [
      "Collecting ipyvizzu"
     ]
    },
    {
     "name": "stderr",
     "output_type": "stream",
     "text": [
      "\n"
     ]
    },
    {
     "name": "stdout",
     "output_type": "stream",
     "text": [
      "\n"
     ]
    },
    {
     "name": "stderr",
     "output_type": "stream",
     "text": [
      "You should consider upgrading via the 'C:\\Users\\me\\PycharmProjects\\vote-herder\\venv\\Scripts\\python.exe -m pip install --upgrade pip' command."
     ]
    },
    {
     "name": "stdout",
     "output_type": "stream",
     "text": [
      "  Downloading ipyvizzu-0.8.1-py3-none-any.whl (12 kB)"
     ]
    },
    {
     "name": "stderr",
     "output_type": "stream",
     "text": [
      "\n"
     ]
    },
    {
     "name": "stdout",
     "output_type": "stream",
     "text": [
      "\n",
      "Requirement already satisfied: pandas in c:\\users\\me\\pycharmprojects\\vote-herder\\venv\\lib\\site-packages (from ipyvizzu) (1.4.2)\n",
      "Requirement already satisfied: IPython in c:\\users\\me\\pycharmprojects\\vote-herder\\venv\\lib\\site-packages (from ipyvizzu) (8.2.0)\n",
      "Requirement already satisfied: NumPy in c:\\users\\me\\pycharmprojects\\vote-herder\\venv\\lib\\site-packages (from ipyvizzu) (1.22.3)\n",
      "Requirement already satisfied: colorama in c:\\users\\me\\pycharmprojects\\vote-herder\\venv\\lib\\site-packages (from IPython->ipyvizzu) (0.4.4)\n",
      "Requirement already satisfied: prompt-toolkit!=3.0.0,!=3.0.1,<3.1.0,>=2.0.0 in c:\\users\\me\\pycharmprojects\\vote-herder\\venv\\lib\\site-packages (from IPython->ipyvizzu) (3.0.29)\n",
      "Requirement already satisfied: traitlets>=5 in c:\\users\\me\\pycharmprojects\\vote-herder\\venv\\lib\\site-packages (from IPython->ipyvizzu) (5.1.1)\n",
      "Requirement already satisfied: pygments>=2.4.0 in c:\\users\\me\\pycharmprojects\\vote-herder\\venv\\lib\\site-packages (from IPython->ipyvizzu) (2.12.0)\n",
      "Note: you may need to restart the kernel to use updated packages.\n",
      "Requirement already satisfied: stack-data in c:\\users\\me\\pycharmprojects\\vote-herder\\venv\\lib\\site-packages (from IPython->ipyvizzu) (0.2.0)\n",
      "Requirement already satisfied: jedi>=0.16 in c:\\users\\me\\pycharmprojects\\vote-herder\\venv\\lib\\site-packages (from IPython->ipyvizzu) (0.18.1)\n",
      "Requirement already satisfied: matplotlib-inline in c:\\users\\me\\pycharmprojects\\vote-herder\\venv\\lib\\site-packages (from IPython->ipyvizzu) (0.1.3)\n",
      "Requirement already satisfied: setuptools>=18.5 in c:\\users\\me\\pycharmprojects\\vote-herder\\venv\\lib\\site-packages (from IPython->ipyvizzu) (60.2.0)\n",
      "Requirement already satisfied: backcall in c:\\users\\me\\pycharmprojects\\vote-herder\\venv\\lib\\site-packages (from IPython->ipyvizzu) (0.2.0)\n",
      "Requirement already satisfied: pickleshare in c:\\users\\me\\pycharmprojects\\vote-herder\\venv\\lib\\site-packages (from IPython->ipyvizzu) (0.7.5)\n",
      "Requirement already satisfied: decorator in c:\\users\\me\\pycharmprojects\\vote-herder\\venv\\lib\\site-packages (from IPython->ipyvizzu) (5.1.1)\n",
      "Requirement already satisfied: pytz>=2020.1 in c:\\users\\me\\pycharmprojects\\vote-herder\\venv\\lib\\site-packages (from pandas->ipyvizzu) (2022.1)\n",
      "Requirement already satisfied: python-dateutil>=2.8.1 in c:\\users\\me\\pycharmprojects\\vote-herder\\venv\\lib\\site-packages (from pandas->ipyvizzu) (2.8.2)\n",
      "Requirement already satisfied: parso<0.9.0,>=0.8.0 in c:\\users\\me\\pycharmprojects\\vote-herder\\venv\\lib\\site-packages (from jedi>=0.16->IPython->ipyvizzu) (0.8.3)\n",
      "Requirement already satisfied: wcwidth in c:\\users\\me\\pycharmprojects\\vote-herder\\venv\\lib\\site-packages (from prompt-toolkit!=3.0.0,!=3.0.1,<3.1.0,>=2.0.0->IPython->ipyvizzu) (0.2.5)\n",
      "Requirement already satisfied: six>=1.5 in c:\\users\\me\\pycharmprojects\\vote-herder\\venv\\lib\\site-packages (from python-dateutil>=2.8.1->pandas->ipyvizzu) (1.16.0)\n",
      "Requirement already satisfied: executing in c:\\users\\me\\pycharmprojects\\vote-herder\\venv\\lib\\site-packages (from stack-data->IPython->ipyvizzu) (0.8.3)\n",
      "Requirement already satisfied: pure-eval in c:\\users\\me\\pycharmprojects\\vote-herder\\venv\\lib\\site-packages (from stack-data->IPython->ipyvizzu) (0.2.2)\n",
      "Requirement already satisfied: asttokens in c:\\users\\me\\pycharmprojects\\vote-herder\\venv\\lib\\site-packages (from stack-data->IPython->ipyvizzu) (2.0.5)\n",
      "Installing collected packages: ipyvizzu\n",
      "Successfully installed ipyvizzu-0.8.1\n"
     ]
    }
   ],
   "source": [
    "import pandas as pd\n",
    "from ipyvizzu import Chart, Data, Config"
   ]
  },
  {
   "cell_type": "code",
   "execution_count": null,
   "id": "0c5a2ba7",
   "metadata": {
    "pycharm": {
     "name": "#%%\n"
    }
   },
   "outputs": [],
   "source": []
  }
 ],
 "metadata": {
  "kernelspec": {
   "display_name": "Django Shell-Plus",
   "language": "python",
   "name": "django_extensions"
  },
  "language_info": {
   "codemirror_mode": {
    "name": "ipython",
    "version": 3
   },
   "file_extension": ".py",
   "mimetype": "text/x-python",
   "name": "python",
   "nbconvert_exporter": "python",
   "pygments_lexer": "ipython3",
   "version": "3.10.4"
  }
 },
 "nbformat": 4,
 "nbformat_minor": 5
}