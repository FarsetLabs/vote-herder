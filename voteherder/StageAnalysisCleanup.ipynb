{
 "cells": [
  {
   "cell_type": "markdown",
   "id": "5381f35f",
   "metadata": {},
   "source": [
    "# Walk the stages of a given ballot\n",
    "\n",
    "Assumptions:\n",
    "* Only executing on sequential stages\n",
    "\n",
    "Logic; taken roughly from [here](https://www.electoral-reform.org.uk/latest-news-and-research/publications/how-to-conduct-an-election-by-the-single-transferable-vote-3rd-edition/#sub-section-18)\n",
    "\n",
    "For a given ballot\n",
    "* For each ordered stage\n",
    "* * if this is the first stage\n",
    "* * * Establish Quote from (Total Valid Votes / (seats+1)) (Rounded to 2 decimal places)\n",
    "* * * * If the quota is NOT exact (i.e. x.00)\n",
    "* * * * * add 0.01 to the quota\n",
    "* * * If there is a candidate equal to or greater than the quota\n",
    "* * * * [TRANSFER LOGIC]\n",
    "* * * [WTF does section 5.1.7b mean?]\n",
    "\n",
    "* * * Otherwise\n",
    "\n",
    "## Boring Django Import Stuff"
   ]
  },
  {
   "cell_type": "code",
   "execution_count": 1,
   "id": "d7896443",
   "metadata": {},
   "outputs": [
    {
     "data": {
      "text/plain": [
       "<Ballot: nia.belfast-east.2017-03-02>"
      ]
     },
     "execution_count": 1,
     "metadata": {},
     "output_type": "execute_result"
    }
   ],
   "source": [
    "import os\n",
    "import django\n",
    "from django.forms.models import model_to_dict\n",
    "from pprint import pprint\n",
    "\n",
    "os.environ.setdefault('DJANGO_SETTINGS_MODULE', 'voteherder.settings')\n",
    "os.environ[\"DJANGO_ALLOW_ASYNC_UNSAFE\"] = \"true\"\n",
    "django.setup()\n",
    "\n",
    "from counts.models import *\n",
    "import pandas as pd\n",
    "\n",
    "\n",
    "ballot = Ballot.objects.get(id='nia.belfast-east.2017-03-02')\n",
    "ballot"
   ]
  },
  {
   "cell_type": "code",
   "execution_count": 2,
   "id": "cadb9237",
   "metadata": {},
   "outputs": [
    {
     "data": {
      "text/plain": [
       "{'id': 'nia.belfast-east.2017-03-02',\n",
       " 'election': 'nia.2017-03-02',\n",
       " 'quota': 6727}"
      ]
     },
     "execution_count": 2,
     "metadata": {},
     "output_type": "execute_result"
    }
   ],
   "source": [
    "model_to_dict(ballot)"
   ]
  },
  {
   "cell_type": "code",
   "execution_count": 3,
   "id": "8ce269c0",
   "metadata": {},
   "outputs": [
    {
     "name": "stdout",
     "output_type": "stream",
     "text": [
      "[<Candidate: Chris Lyttle (Alliance - Alliance Party of Northern Ireland)>,\n",
      " <Candidate: Naomi Long (Alliance - Alliance Party of Northern Ireland)>,\n",
      " <Candidate: Sheila Bodel (Conservative and Unionist Party)>,\n",
      " <Candidate: Courtney Robinson (Cross-Community Labour Alternative)>,\n",
      " <Candidate: David Douglas (Democratic Unionist Party - D.U.P.)>,\n",
      " <Candidate: Joanne Bunting (Democratic Unionist Party - D.U.P.)>,\n",
      " <Candidate: Robin Newton (Democratic Unionist Party - D.U.P.)>,\n",
      " <Candidate: Georgina Milne (Green Party)>,\n",
      " <Candidate: Jordy McKeag (Independent)>,\n",
      " <Candidate: John Kyle (Progressive Unionist Party of Northern Ireland)>,\n",
      " <Candidate: Séamas de Faoite (SDLP (Social Democratic & Labour Party))>,\n",
      " <Candidate: Mairéad O'Donnell (Sinn Féin)>,\n",
      " <Candidate: Andrew Girvin (Traditional Unionist Voice - TUV)>,\n",
      " <Candidate: Andy Allen (Ulster Unionist Party)>]\n"
     ]
    }
   ],
   "source": [
    "candidates = Candidate.objects.filter(standing__in=[ballot])\n",
    "pprint(list(candidates))"
   ]
  },
  {
   "cell_type": "code",
   "execution_count": 4,
   "id": "802cbe78",
   "metadata": {},
   "outputs": [
    {
     "name": "stdout",
     "output_type": "stream",
     "text": [
      "[<Stage: nia.belfast-east.2017-03-02-1 @ admin>,\n",
      " <Stage: nia.belfast-east.2017-03-02-2 @ admin>,\n",
      " <Stage: nia.belfast-east.2017-03-02-3 @ admin>,\n",
      " <Stage: nia.belfast-east.2017-03-02-4 @ admin>,\n",
      " <Stage: nia.belfast-east.2017-03-02-5 @ admin>,\n",
      " <Stage: nia.belfast-east.2017-03-02-6 @ admin>,\n",
      " <Stage: nia.belfast-east.2017-03-02-7 @ admin>,\n",
      " <Stage: nia.belfast-east.2017-03-02-8 @ admin>,\n",
      " <Stage: nia.belfast-east.2017-03-02-9 @ admin>,\n",
      " <Stage: nia.belfast-east.2017-03-02-10 @ admin>,\n",
      " <Stage: nia.belfast-east.2017-03-02-11 @ admin>]\n"
     ]
    }
   ],
   "source": [
    "stages = Stage.objects.filter(ballot=ballot)\n",
    "pprint(list(stages))"
   ]
  },
  {
   "cell_type": "code",
   "execution_count": 16,
   "id": "ca44eb10",
   "metadata": {},
   "outputs": [
    {
     "name": "stdout",
     "output_type": "stream",
     "text": [
      "Naomi Long wins in Stage 1 with 7610.0 votes\n"
     ]
    }
   ],
   "source": [
    "elected = []\n",
    "excluded = []\n",
    "for stage in stages:\n",
    "    # Who are the valid candidates in this stage?\n",
    "    candidate_counts = StageCell.objects.filter(stage=stage)\\\n",
    "                                .exclude(candidate__in=elected)\\\n",
    "                                .exclude(candidate__in=excluded)\\\n",
    "                                .order_by('-count')\n",
    "    \n",
    "    if (c:=candidate_counts.first()).count > ballot.quota:\n",
    "        print(f'{c.candidate.name} wins in Stage {stage.count_stage} with {c.count} votes')\n",
    "        elected.append(c.candidate)\n"
   ]
  },
  {
   "cell_type": "code",
   "execution_count": 17,
   "id": "7f186de5",
   "metadata": {},
   "outputs": [
    {
     "data": {
      "text/plain": [
       "2"
      ]
     },
     "execution_count": 17,
     "metadata": {},
     "output_type": "execute_result"
    }
   ],
   "source": [
    "len([_,_])"
   ]
  },
  {
   "cell_type": "code",
   "execution_count": 10,
   "id": "be1d1df5",
   "metadata": {},
   "outputs": [
    {
     "data": {
      "text/plain": [
       "{<Candidate: Naomi Long (Alliance - Alliance Party of Northern Ireland)>: 7610.0,\n",
       " <Candidate: Joanne Bunting (Democratic Unionist Party - D.U.P.)>: 6007.0,\n",
       " <Candidate: Andy Allen (Ulster Unionist Party)>: 5275.0,\n",
       " <Candidate: Chris Lyttle (Alliance - Alliance Party of Northern Ireland)>: 5059.0,\n",
       " <Candidate: Robin Newton (Democratic Unionist Party - D.U.P.)>: 4729.0,\n",
       " <Candidate: David Douglas (Democratic Unionist Party - D.U.P.)>: 4431.0,\n",
       " <Candidate: John Kyle (Progressive Unionist Party of Northern Ireland)>: 2658.0,\n",
       " <Candidate: Georgina Milne (Green Party)>: 1447.0,\n",
       " <Candidate: Mairéad O'Donnell (Sinn Féin)>: 1173.0,\n",
       " <Candidate: Andrew Girvin (Traditional Unionist Voice - TUV)>: 917.0,\n",
       " <Candidate: Courtney Robinson (Cross-Community Labour Alternative)>: 442.0,\n",
       " <Candidate: Sheila Bodel (Conservative and Unionist Party)>: 275.0,\n",
       " <Candidate: Séamas de Faoite (SDLP (Social Democratic & Labour Party))>: 250.0,\n",
       " <Candidate: Jordy McKeag (Independent)>: 84.0}"
      ]
     },
     "execution_count": 10,
     "metadata": {},
     "output_type": "execute_result"
    }
   ],
   "source": [
    "## DO NOT COPY ME, THIS IS NOT REAL CODE\n",
    "# IT JUST LOOKS LIKE IT ON TV\n",
    "\n",
    "quota = XXXX\n",
    "elected = []\n",
    "excluded = []\n",
    "seats = 5\n",
    "\n",
    "while len(elected) < seats:\n",
    "    candidates = sorted(stage_results)\n",
    "    \n",
    "    if candidates.first().vote > quota:\n",
    "        print(\"{candidate.first()} Wins!\")\n",
    "        elected.append(candidates.first())\n",
    "        transferable_votes = candidates.first().vote-quota\n",
    "        \n",
    "    else:\n",
    "        print(\"{candidate.last()} Wins!\")\n",
    "        excluded.append(candidates.last())\n",
    "        transferable_votes = candidates.first().vote\n",
    "        \n",
    "        stage_results = do_transfer_magic(transferable_votes)\n",
    "            \n"
   ]
  },
  {
   "cell_type": "code",
   "execution_count": 6,
   "id": "58d72ed0",
   "metadata": {},
   "outputs": [
    {
     "ename": "NameError",
     "evalue": "name 'stage' is not defined",
     "output_type": "error",
     "traceback": [
      "\u001b[1;31m---------------------------------------------------------------------------\u001b[0m",
      "\u001b[1;31mNameError\u001b[0m                                 Traceback (most recent call last)",
      "Input \u001b[1;32mIn [6]\u001b[0m, in \u001b[0;36m<cell line: 1>\u001b[1;34m()\u001b[0m\n\u001b[1;32m----> 1\u001b[0m \u001b[43mstage\u001b[49m\u001b[38;5;241m.\u001b[39mget_counts()\n",
      "\u001b[1;31mNameError\u001b[0m: name 'stage' is not defined"
     ]
    }
   ],
   "source": []
  },
  {
   "cell_type": "code",
   "execution_count": null,
   "id": "fc54123d",
   "metadata": {},
   "outputs": [],
   "source": []
  }
 ],
 "metadata": {
  "kernelspec": {
   "display_name": "Django Shell-Plus",
   "language": "python",
   "name": "django_extensions"
  },
  "language_info": {
   "codemirror_mode": {
    "name": "ipython",
    "version": 3
   },
   "file_extension": ".py",
   "mimetype": "text/x-python",
   "name": "python",
   "nbconvert_exporter": "python",
   "pygments_lexer": "ipython3",
   "version": "3.10.4"
  }
 },
 "nbformat": 4,
 "nbformat_minor": 5
}
