{
 "cells": [
  {
   "cell_type": "code",
   "execution_count": 1,
   "id": "3072d869",
   "metadata": {
    "pycharm": {
     "name": "#%%\n"
    }
   },
   "outputs": [],
   "source": [
    "import os\n",
    "import django\n",
    "os.environ.setdefault('DJANGO_SETTINGS_MODULE', 'voteherder.settings')\n",
    "os.environ[\"DJANGO_ALLOW_ASYNC_UNSAFE\"] = \"true\"\n",
    "django.setup()\n",
    "from counts.models import *"
   ]
  },
  {
   "cell_type": "markdown",
   "id": "d4c013e4",
   "metadata": {
    "pycharm": {
     "name": "#%% md\n"
    }
   },
   "source": [
    "# Modelling Election Transfers between Parties on a per constituency basis\n",
    "\n",
    "Starting with Belfast East in 2017"
   ]
  },
  {
   "cell_type": "code",
   "execution_count": 2,
   "id": "fd4cf256",
   "metadata": {
    "pycharm": {
     "name": "#%%\n"
    }
   },
   "outputs": [],
   "source": [
    "ballot = Ballot.objects.get(id='nia.belfast-east.2017-03-02')"
   ]
  },
  {
   "cell_type": "code",
   "execution_count": 3,
   "id": "f87a5279",
   "metadata": {
    "pycharm": {
     "name": "#%%\n"
    }
   },
   "outputs": [
    {
     "data": {
      "text/plain": [
       "<QuerySet [<Stage: nia.belfast-east.2017-03-02-1 @ admin>, <Stage: nia.belfast-east.2017-03-02-2 @ admin>, <Stage: nia.belfast-east.2017-03-02-3 @ admin>, <Stage: nia.belfast-east.2017-03-02-4 @ admin>, <Stage: nia.belfast-east.2017-03-02-5 @ admin>, <Stage: nia.belfast-east.2017-03-02-6 @ admin>, <Stage: nia.belfast-east.2017-03-02-7 @ admin>, <Stage: nia.belfast-east.2017-03-02-8 @ admin>, <Stage: nia.belfast-east.2017-03-02-9 @ admin>, <Stage: nia.belfast-east.2017-03-02-10 @ admin>, <Stage: nia.belfast-east.2017-03-02-11 @ admin>]>"
      ]
     },
     "execution_count": 3,
     "metadata": {},
     "output_type": "execute_result"
    }
   ],
   "source": [
    "stages = Stage.objects.filter(ballot__id='nia.belfast-east.2017-03-02')\n",
    "stages"
   ]
  },
  {
   "cell_type": "code",
   "execution_count": 4,
   "id": "d4aba9e6",
   "metadata": {
    "pycharm": {
     "name": "#%%\n"
    }
   },
   "outputs": [],
   "source": [
    "stagecells = StageCell.objects.filter(stage__ballot__id='nia.belfast-east.2017-03-02').select_related('stage')"
   ]
  },
  {
   "cell_type": "code",
   "execution_count": 5,
   "id": "bc02d8a6",
   "metadata": {
    "pycharm": {
     "name": "#%%\n"
    }
   },
   "outputs": [
    {
     "data": {
      "text/plain": [
       "<StageCell: 5275.0 for Andy Allen (Ulster Unionist Party) in nia.belfast-east.2017-03-02-1 @ admin>"
      ]
     },
     "execution_count": 5,
     "metadata": {},
     "output_type": "execute_result"
    }
   ],
   "source": [
    "stagecells.first()"
   ]
  },
  {
   "cell_type": "code",
   "execution_count": null,
   "outputs": [],
   "source": [
    "party_transfers/party_transfers.sum()*(883/883)"
   ],
   "metadata": {
    "collapsed": false,
    "pycharm": {
     "name": "#%%\n"
    }
   }
  },
  {
   "cell_type": "code",
   "execution_count": null,
   "outputs": [],
   "source": [],
   "metadata": {
    "collapsed": false,
    "pycharm": {
     "name": "#%%\n"
    }
   }
  },
  {
   "cell_type": "code",
   "execution_count": 6,
   "id": "a3cd63a8",
   "metadata": {
    "pycharm": {
     "name": "#%%\n"
    }
   },
   "outputs": [
    {
     "data": {
      "text/plain": [
       "{'stage': UUID('1ecc3ee6-6a11-6f03-a275-00e04c1a5742'),\n",
       " 'candidate': 8116,\n",
       " 'count': 5275.0}"
      ]
     },
     "execution_count": 6,
     "metadata": {},
     "output_type": "execute_result"
    }
   ],
   "source": [
    "from django.forms.models import model_to_dict\n",
    "model_to_dict(stagecells.first())"
   ]
  },
  {
   "cell_type": "code",
   "execution_count": 7,
   "id": "8186b114",
   "metadata": {
    "pycharm": {
     "name": "#%%\n"
    }
   },
   "outputs": [
    {
     "data": {
      "text/plain": [
       "1ecc3ee6-6a11-6f03-a275-00e04c1a5742    14\n",
       "1ecc3ee6-6b0c-6f5d-ac5b-00e04c1a5742    14\n",
       "1ecc3ee6-6c20-6d6a-a314-00e04c1a5742    14\n",
       "1ecc3ee6-6d28-6eaa-82be-00e04c1a5742    14\n",
       "1ecc3ee6-6e17-668c-955a-00e04c1a5742    14\n",
       "1ecc3ee6-6f09-6c79-9ae0-00e04c1a5742    14\n",
       "1ecc3ee6-701f-6c56-b7ab-00e04c1a5742    14\n",
       "1ecc3ee6-711b-69f3-93d3-00e04c1a5742    14\n",
       "1ecc3ee6-7202-6e96-b215-00e04c1a5742    14\n",
       "1ecc3ee6-72e4-67e5-9915-00e04c1a5742    14\n",
       "1ecc3ee6-73df-63f6-b791-00e04c1a5742    14\n",
       "Name: stage, dtype: int64"
      ]
     },
     "execution_count": 7,
     "metadata": {},
     "output_type": "execute_result"
    }
   ],
   "source": [
    "import pandas as pd \n",
    "df = pd.DataFrame(map(model_to_dict,stagecells))\n",
    "df['stage'].value_counts()"
   ]
  },
  {
   "cell_type": "code",
   "execution_count": 25,
   "id": "4a6507d0",
   "metadata": {
    "pycharm": {
     "name": "#%%\n"
    }
   },
   "outputs": [
    {
     "data": {
      "text/plain": [
       "{'candidate_id': 8116,\n",
       " 'candidate_name': 'Andy Allen',\n",
       " 'candidate_party_name': 'Ulster Unionist Party',\n",
       " 'candidate_party_id': 'PP83',\n",
       " 'constituency': 'belfast-east',\n",
       " 'count_stage': 1,\n",
       " 'count': 5275.0,\n",
       " 'quota': 6727}"
      ]
     },
     "execution_count": 25,
     "metadata": {},
     "output_type": "execute_result"
    }
   ],
   "source": [
    "def renormalize_stagecell(s):\n",
    "    return dict(\n",
    "        candidate_id=s.candidate.id,\n",
    "        candidate_name=s.candidate.name,\n",
    "        candidate_party_name=s.candidate.party_name,\n",
    "        candidate_party_id=s.candidate.party_id,\n",
    "        constituency=s.stage.ballot.constituency,\n",
    "        count_stage=s.stage.count_stage,\n",
    "        count=s.count,\n",
    "        quota=s.stage.ballot.quota\n",
    "    )\n",
    "renormalize_stagecell(stagecells.first())"
   ]
  },
  {
   "cell_type": "code",
   "execution_count": 26,
   "id": "f69a031b",
   "metadata": {
    "pycharm": {
     "name": "#%%\n"
    }
   },
   "outputs": [],
   "source": [
    "df = pd.DataFrame(map(renormalize_stagecell, stagecells.all()))"
   ]
  },
  {
   "cell_type": "code",
   "execution_count": 32,
   "id": "b18d514f",
   "metadata": {
    "pycharm": {
     "name": "#%%\n"
    }
   },
   "outputs": [
    {
     "data": {
      "text/html": [
       "<div>\n",
       "<style scoped>\n",
       "    .dataframe tbody tr th:only-of-type {\n",
       "        vertical-align: middle;\n",
       "    }\n",
       "\n",
       "    .dataframe tbody tr th {\n",
       "        vertical-align: top;\n",
       "    }\n",
       "\n",
       "    .dataframe thead th {\n",
       "        text-align: right;\n",
       "    }\n",
       "</style>\n",
       "<table border=\"1\" class=\"dataframe\">\n",
       "  <thead>\n",
       "    <tr style=\"text-align: right;\">\n",
       "      <th></th>\n",
       "      <th>candidate_id</th>\n",
       "      <th>candidate_name</th>\n",
       "      <th>candidate_party_name</th>\n",
       "      <th>candidate_party_id</th>\n",
       "      <th>constituency</th>\n",
       "      <th>count_stage</th>\n",
       "      <th>count</th>\n",
       "      <th>quota</th>\n",
       "    </tr>\n",
       "  </thead>\n",
       "  <tbody>\n",
       "    <tr>\n",
       "      <th>0</th>\n",
       "      <td>8116</td>\n",
       "      <td>Andy Allen</td>\n",
       "      <td>Ulster Unionist Party</td>\n",
       "      <td>PP83</td>\n",
       "      <td>belfast-east</td>\n",
       "      <td>1</td>\n",
       "      <td>5275.0</td>\n",
       "      <td>6727</td>\n",
       "    </tr>\n",
       "    <tr>\n",
       "      <th>1</th>\n",
       "      <td>19719</td>\n",
       "      <td>Sheila Bodel</td>\n",
       "      <td>Conservative and Unionist Party</td>\n",
       "      <td>PP51</td>\n",
       "      <td>belfast-east</td>\n",
       "      <td>1</td>\n",
       "      <td>275.0</td>\n",
       "      <td>6727</td>\n",
       "    </tr>\n",
       "    <tr>\n",
       "      <th>2</th>\n",
       "      <td>13032</td>\n",
       "      <td>Joanne Bunting</td>\n",
       "      <td>Democratic Unionist Party - D.U.P.</td>\n",
       "      <td>PP70</td>\n",
       "      <td>belfast-east</td>\n",
       "      <td>1</td>\n",
       "      <td>6007.0</td>\n",
       "      <td>6727</td>\n",
       "    </tr>\n",
       "    <tr>\n",
       "      <th>3</th>\n",
       "      <td>19687</td>\n",
       "      <td>David Douglas</td>\n",
       "      <td>Democratic Unionist Party - D.U.P.</td>\n",
       "      <td>PP70</td>\n",
       "      <td>belfast-east</td>\n",
       "      <td>1</td>\n",
       "      <td>4431.0</td>\n",
       "      <td>6727</td>\n",
       "    </tr>\n",
       "    <tr>\n",
       "      <th>4</th>\n",
       "      <td>19745</td>\n",
       "      <td>Séamas de Faoite</td>\n",
       "      <td>SDLP (Social Democratic &amp; Labour Party)</td>\n",
       "      <td>PP55</td>\n",
       "      <td>belfast-east</td>\n",
       "      <td>1</td>\n",
       "      <td>250.0</td>\n",
       "      <td>6727</td>\n",
       "    </tr>\n",
       "    <tr>\n",
       "      <th>5</th>\n",
       "      <td>13035</td>\n",
       "      <td>Andrew Girvin</td>\n",
       "      <td>Traditional Unionist Voice - TUV</td>\n",
       "      <td>PP680</td>\n",
       "      <td>belfast-east</td>\n",
       "      <td>1</td>\n",
       "      <td>917.0</td>\n",
       "      <td>6727</td>\n",
       "    </tr>\n",
       "    <tr>\n",
       "      <th>6</th>\n",
       "      <td>13037</td>\n",
       "      <td>John Kyle</td>\n",
       "      <td>Progressive Unionist Party of Northern Ireland</td>\n",
       "      <td>PP101</td>\n",
       "      <td>belfast-east</td>\n",
       "      <td>1</td>\n",
       "      <td>2658.0</td>\n",
       "      <td>6727</td>\n",
       "    </tr>\n",
       "    <tr>\n",
       "      <th>7</th>\n",
       "      <td>2454</td>\n",
       "      <td>Naomi Long</td>\n",
       "      <td>Alliance - Alliance Party of Northern Ireland</td>\n",
       "      <td>PP103</td>\n",
       "      <td>belfast-east</td>\n",
       "      <td>1</td>\n",
       "      <td>7610.0</td>\n",
       "      <td>6727</td>\n",
       "    </tr>\n",
       "    <tr>\n",
       "      <th>8</th>\n",
       "      <td>13038</td>\n",
       "      <td>Chris Lyttle</td>\n",
       "      <td>Alliance - Alliance Party of Northern Ireland</td>\n",
       "      <td>PP103</td>\n",
       "      <td>belfast-east</td>\n",
       "      <td>1</td>\n",
       "      <td>5059.0</td>\n",
       "      <td>6727</td>\n",
       "    </tr>\n",
       "    <tr>\n",
       "      <th>9</th>\n",
       "      <td>19746</td>\n",
       "      <td>Jordy McKeag</td>\n",
       "      <td>Independent</td>\n",
       "      <td>ynmp-party:2</td>\n",
       "      <td>belfast-east</td>\n",
       "      <td>1</td>\n",
       "      <td>84.0</td>\n",
       "      <td>6727</td>\n",
       "    </tr>\n",
       "    <tr>\n",
       "      <th>10</th>\n",
       "      <td>19699</td>\n",
       "      <td>Georgina Milne</td>\n",
       "      <td>Green Party</td>\n",
       "      <td>PP305</td>\n",
       "      <td>belfast-east</td>\n",
       "      <td>1</td>\n",
       "      <td>1447.0</td>\n",
       "      <td>6727</td>\n",
       "    </tr>\n",
       "    <tr>\n",
       "      <th>11</th>\n",
       "      <td>13040</td>\n",
       "      <td>Robin Newton</td>\n",
       "      <td>Democratic Unionist Party - D.U.P.</td>\n",
       "      <td>PP70</td>\n",
       "      <td>belfast-east</td>\n",
       "      <td>1</td>\n",
       "      <td>4729.0</td>\n",
       "      <td>6727</td>\n",
       "    </tr>\n",
       "    <tr>\n",
       "      <th>12</th>\n",
       "      <td>19680</td>\n",
       "      <td>Mairéad O'Donnell</td>\n",
       "      <td>Sinn Féin</td>\n",
       "      <td>PP39</td>\n",
       "      <td>belfast-east</td>\n",
       "      <td>1</td>\n",
       "      <td>1173.0</td>\n",
       "      <td>6727</td>\n",
       "    </tr>\n",
       "    <tr>\n",
       "      <th>13</th>\n",
       "      <td>13041</td>\n",
       "      <td>Courtney Robinson</td>\n",
       "      <td>Cross-Community Labour Alternative</td>\n",
       "      <td>PP4037</td>\n",
       "      <td>belfast-east</td>\n",
       "      <td>1</td>\n",
       "      <td>442.0</td>\n",
       "      <td>6727</td>\n",
       "    </tr>\n",
       "  </tbody>\n",
       "</table>\n",
       "</div>"
      ],
      "text/plain": [
       "    candidate_id     candidate_name  \\\n",
       "0           8116         Andy Allen   \n",
       "1          19719       Sheila Bodel   \n",
       "2          13032     Joanne Bunting   \n",
       "3          19687      David Douglas   \n",
       "4          19745   Séamas de Faoite   \n",
       "5          13035      Andrew Girvin   \n",
       "6          13037          John Kyle   \n",
       "7           2454         Naomi Long   \n",
       "8          13038       Chris Lyttle   \n",
       "9          19746       Jordy McKeag   \n",
       "10         19699     Georgina Milne   \n",
       "11         13040       Robin Newton   \n",
       "12         19680  Mairéad O'Donnell   \n",
       "13         13041  Courtney Robinson   \n",
       "\n",
       "                              candidate_party_name candidate_party_id  \\\n",
       "0                            Ulster Unionist Party               PP83   \n",
       "1                  Conservative and Unionist Party               PP51   \n",
       "2               Democratic Unionist Party - D.U.P.               PP70   \n",
       "3               Democratic Unionist Party - D.U.P.               PP70   \n",
       "4          SDLP (Social Democratic & Labour Party)               PP55   \n",
       "5                 Traditional Unionist Voice - TUV              PP680   \n",
       "6   Progressive Unionist Party of Northern Ireland              PP101   \n",
       "7    Alliance - Alliance Party of Northern Ireland              PP103   \n",
       "8    Alliance - Alliance Party of Northern Ireland              PP103   \n",
       "9                                      Independent       ynmp-party:2   \n",
       "10                                     Green Party              PP305   \n",
       "11              Democratic Unionist Party - D.U.P.               PP70   \n",
       "12                                       Sinn Féin               PP39   \n",
       "13              Cross-Community Labour Alternative             PP4037   \n",
       "\n",
       "    constituency  count_stage   count  quota  \n",
       "0   belfast-east            1  5275.0   6727  \n",
       "1   belfast-east            1   275.0   6727  \n",
       "2   belfast-east            1  6007.0   6727  \n",
       "3   belfast-east            1  4431.0   6727  \n",
       "4   belfast-east            1   250.0   6727  \n",
       "5   belfast-east            1   917.0   6727  \n",
       "6   belfast-east            1  2658.0   6727  \n",
       "7   belfast-east            1  7610.0   6727  \n",
       "8   belfast-east            1  5059.0   6727  \n",
       "9   belfast-east            1    84.0   6727  \n",
       "10  belfast-east            1  1447.0   6727  \n",
       "11  belfast-east            1  4729.0   6727  \n",
       "12  belfast-east            1  1173.0   6727  \n",
       "13  belfast-east            1   442.0   6727  "
      ]
     },
     "execution_count": 32,
     "metadata": {},
     "output_type": "execute_result"
    }
   ],
   "source": [
    "sdf = df[df['count_stage']==1]\n",
    "sdf"
   ]
  },
  {
   "cell_type": "code",
   "execution_count": 30,
   "id": "7ccee106",
   "metadata": {
    "pycharm": {
     "name": "#%%\n"
    }
   },
   "outputs": [
    {
     "data": {
      "text/html": [
       "<div>\n",
       "<style scoped>\n",
       "    .dataframe tbody tr th:only-of-type {\n",
       "        vertical-align: middle;\n",
       "    }\n",
       "\n",
       "    .dataframe tbody tr th {\n",
       "        vertical-align: top;\n",
       "    }\n",
       "\n",
       "    .dataframe thead th {\n",
       "        text-align: right;\n",
       "    }\n",
       "</style>\n",
       "<table border=\"1\" class=\"dataframe\">\n",
       "  <thead>\n",
       "    <tr style=\"text-align: right;\">\n",
       "      <th></th>\n",
       "      <th>candidate_id</th>\n",
       "      <th>candidate_name</th>\n",
       "      <th>candidate_party_name</th>\n",
       "      <th>candidate_party_id</th>\n",
       "      <th>constituency</th>\n",
       "      <th>count_stage</th>\n",
       "      <th>count</th>\n",
       "      <th>quota</th>\n",
       "    </tr>\n",
       "  </thead>\n",
       "  <tbody>\n",
       "    <tr>\n",
       "      <th>7</th>\n",
       "      <td>2454</td>\n",
       "      <td>Naomi Long</td>\n",
       "      <td>Alliance - Alliance Party of Northern Ireland</td>\n",
       "      <td>PP103</td>\n",
       "      <td>belfast-east</td>\n",
       "      <td>1</td>\n",
       "      <td>7610.0</td>\n",
       "      <td>6727</td>\n",
       "    </tr>\n",
       "  </tbody>\n",
       "</table>\n",
       "</div>"
      ],
      "text/plain": [
       "   candidate_id candidate_name                           candidate_party_name  \\\n",
       "7          2454     Naomi Long  Alliance - Alliance Party of Northern Ireland   \n",
       "\n",
       "  candidate_party_id  constituency  count_stage   count  quota  \n",
       "7              PP103  belfast-east            1  7610.0   6727  "
      ]
     },
     "execution_count": 30,
     "metadata": {},
     "output_type": "execute_result"
    }
   ],
   "source": [
    "quota = 6727\n",
    "# Case where there is only one clear winner; in this case Naomi Long\n",
    "sdf[sdf['count']>quota]"
   ]
  },
  {
   "cell_type": "code",
   "execution_count": 41,
   "id": "7effb9de",
   "metadata": {
    "pycharm": {
     "name": "#%%\n"
    }
   },
   "outputs": [
    {
     "data": {
      "text/plain": [
       "candidate_id                                                     2454\n",
       "candidate_name                                             Naomi Long\n",
       "candidate_party_name    Alliance - Alliance Party of Northern Ireland\n",
       "candidate_party_id                                              PP103\n",
       "constituency                                             belfast-east\n",
       "count_stage                                                         1\n",
       "count                                                          7610.0\n",
       "quota                                                            6727\n",
       "Name: 7, dtype: object"
      ]
     },
     "execution_count": 41,
     "metadata": {},
     "output_type": "execute_result"
    }
   ],
   "source": [
    "elected = sdf[sdf['count']>quota].iloc[0]\n",
    "elected"
   ]
  },
  {
   "cell_type": "code",
   "execution_count": 81,
   "id": "2574dbdb",
   "metadata": {
    "pycharm": {
     "name": "#%%\n"
    }
   },
   "outputs": [
    {
     "data": {
      "text/html": [
       "<div>\n",
       "<style scoped>\n",
       "    .dataframe tbody tr th:only-of-type {\n",
       "        vertical-align: middle;\n",
       "    }\n",
       "\n",
       "    .dataframe tbody tr th {\n",
       "        vertical-align: top;\n",
       "    }\n",
       "\n",
       "    .dataframe thead th {\n",
       "        text-align: right;\n",
       "    }\n",
       "</style>\n",
       "<table border=\"1\" class=\"dataframe\">\n",
       "  <thead>\n",
       "    <tr style=\"text-align: right;\">\n",
       "      <th></th>\n",
       "      <th>candidate_id</th>\n",
       "      <th>candidate_name</th>\n",
       "      <th>candidate_party_name</th>\n",
       "      <th>candidate_party_id</th>\n",
       "      <th>constituency</th>\n",
       "      <th>count_stage</th>\n",
       "      <th>count</th>\n",
       "      <th>quota</th>\n",
       "    </tr>\n",
       "  </thead>\n",
       "  <tbody>\n",
       "    <tr>\n",
       "      <th>14</th>\n",
       "      <td>8116</td>\n",
       "      <td>Andy Allen</td>\n",
       "      <td>Ulster Unionist Party</td>\n",
       "      <td>PP83</td>\n",
       "      <td>belfast-east</td>\n",
       "      <td>2</td>\n",
       "      <td>5313.17</td>\n",
       "      <td>6727</td>\n",
       "    </tr>\n",
       "    <tr>\n",
       "      <th>15</th>\n",
       "      <td>19719</td>\n",
       "      <td>Sheila Bodel</td>\n",
       "      <td>Conservative and Unionist Party</td>\n",
       "      <td>PP51</td>\n",
       "      <td>belfast-east</td>\n",
       "      <td>2</td>\n",
       "      <td>276.32</td>\n",
       "      <td>6727</td>\n",
       "    </tr>\n",
       "    <tr>\n",
       "      <th>16</th>\n",
       "      <td>13032</td>\n",
       "      <td>Joanne Bunting</td>\n",
       "      <td>Democratic Unionist Party - D.U.P.</td>\n",
       "      <td>PP70</td>\n",
       "      <td>belfast-east</td>\n",
       "      <td>2</td>\n",
       "      <td>6016.02</td>\n",
       "      <td>6727</td>\n",
       "    </tr>\n",
       "    <tr>\n",
       "      <th>17</th>\n",
       "      <td>19687</td>\n",
       "      <td>David Douglas</td>\n",
       "      <td>Democratic Unionist Party - D.U.P.</td>\n",
       "      <td>PP70</td>\n",
       "      <td>belfast-east</td>\n",
       "      <td>2</td>\n",
       "      <td>4435.18</td>\n",
       "      <td>6727</td>\n",
       "    </tr>\n",
       "    <tr>\n",
       "      <th>18</th>\n",
       "      <td>19745</td>\n",
       "      <td>Séamas de Faoite</td>\n",
       "      <td>SDLP (Social Democratic &amp; Labour Party)</td>\n",
       "      <td>PP55</td>\n",
       "      <td>belfast-east</td>\n",
       "      <td>2</td>\n",
       "      <td>260.45</td>\n",
       "      <td>6727</td>\n",
       "    </tr>\n",
       "    <tr>\n",
       "      <th>19</th>\n",
       "      <td>13035</td>\n",
       "      <td>Andrew Girvin</td>\n",
       "      <td>Traditional Unionist Voice - TUV</td>\n",
       "      <td>PP680</td>\n",
       "      <td>belfast-east</td>\n",
       "      <td>2</td>\n",
       "      <td>918.65</td>\n",
       "      <td>6727</td>\n",
       "    </tr>\n",
       "    <tr>\n",
       "      <th>20</th>\n",
       "      <td>13037</td>\n",
       "      <td>John Kyle</td>\n",
       "      <td>Progressive Unionist Party of Northern Ireland</td>\n",
       "      <td>PP101</td>\n",
       "      <td>belfast-east</td>\n",
       "      <td>2</td>\n",
       "      <td>2673.29</td>\n",
       "      <td>6727</td>\n",
       "    </tr>\n",
       "    <tr>\n",
       "      <th>21</th>\n",
       "      <td>2454</td>\n",
       "      <td>Naomi Long</td>\n",
       "      <td>Alliance - Alliance Party of Northern Ireland</td>\n",
       "      <td>PP103</td>\n",
       "      <td>belfast-east</td>\n",
       "      <td>2</td>\n",
       "      <td>6727.00</td>\n",
       "      <td>6727</td>\n",
       "    </tr>\n",
       "    <tr>\n",
       "      <th>22</th>\n",
       "      <td>13038</td>\n",
       "      <td>Chris Lyttle</td>\n",
       "      <td>Alliance - Alliance Party of Northern Ireland</td>\n",
       "      <td>PP103</td>\n",
       "      <td>belfast-east</td>\n",
       "      <td>2</td>\n",
       "      <td>5760.03</td>\n",
       "      <td>6727</td>\n",
       "    </tr>\n",
       "    <tr>\n",
       "      <th>23</th>\n",
       "      <td>19746</td>\n",
       "      <td>Jordy McKeag</td>\n",
       "      <td>Independent</td>\n",
       "      <td>ynmp-party:2</td>\n",
       "      <td>belfast-east</td>\n",
       "      <td>2</td>\n",
       "      <td>85.43</td>\n",
       "      <td>6727</td>\n",
       "    </tr>\n",
       "    <tr>\n",
       "      <th>24</th>\n",
       "      <td>19699</td>\n",
       "      <td>Georgina Milne</td>\n",
       "      <td>Green Party</td>\n",
       "      <td>PP305</td>\n",
       "      <td>belfast-east</td>\n",
       "      <td>2</td>\n",
       "      <td>1474.06</td>\n",
       "      <td>6727</td>\n",
       "    </tr>\n",
       "    <tr>\n",
       "      <th>25</th>\n",
       "      <td>13040</td>\n",
       "      <td>Robin Newton</td>\n",
       "      <td>Democratic Unionist Party - D.U.P.</td>\n",
       "      <td>PP70</td>\n",
       "      <td>belfast-east</td>\n",
       "      <td>2</td>\n",
       "      <td>4734.50</td>\n",
       "      <td>6727</td>\n",
       "    </tr>\n",
       "    <tr>\n",
       "      <th>26</th>\n",
       "      <td>19680</td>\n",
       "      <td>Mairéad O'Donnell</td>\n",
       "      <td>Sinn Féin</td>\n",
       "      <td>PP39</td>\n",
       "      <td>belfast-east</td>\n",
       "      <td>2</td>\n",
       "      <td>1183.34</td>\n",
       "      <td>6727</td>\n",
       "    </tr>\n",
       "    <tr>\n",
       "      <th>27</th>\n",
       "      <td>13041</td>\n",
       "      <td>Courtney Robinson</td>\n",
       "      <td>Cross-Community Labour Alternative</td>\n",
       "      <td>PP4037</td>\n",
       "      <td>belfast-east</td>\n",
       "      <td>2</td>\n",
       "      <td>449.48</td>\n",
       "      <td>6727</td>\n",
       "    </tr>\n",
       "  </tbody>\n",
       "</table>\n",
       "</div>"
      ],
      "text/plain": [
       "    candidate_id     candidate_name  \\\n",
       "14          8116         Andy Allen   \n",
       "15         19719       Sheila Bodel   \n",
       "16         13032     Joanne Bunting   \n",
       "17         19687      David Douglas   \n",
       "18         19745   Séamas de Faoite   \n",
       "19         13035      Andrew Girvin   \n",
       "20         13037          John Kyle   \n",
       "21          2454         Naomi Long   \n",
       "22         13038       Chris Lyttle   \n",
       "23         19746       Jordy McKeag   \n",
       "24         19699     Georgina Milne   \n",
       "25         13040       Robin Newton   \n",
       "26         19680  Mairéad O'Donnell   \n",
       "27         13041  Courtney Robinson   \n",
       "\n",
       "                              candidate_party_name candidate_party_id  \\\n",
       "14                           Ulster Unionist Party               PP83   \n",
       "15                 Conservative and Unionist Party               PP51   \n",
       "16              Democratic Unionist Party - D.U.P.               PP70   \n",
       "17              Democratic Unionist Party - D.U.P.               PP70   \n",
       "18         SDLP (Social Democratic & Labour Party)               PP55   \n",
       "19                Traditional Unionist Voice - TUV              PP680   \n",
       "20  Progressive Unionist Party of Northern Ireland              PP101   \n",
       "21   Alliance - Alliance Party of Northern Ireland              PP103   \n",
       "22   Alliance - Alliance Party of Northern Ireland              PP103   \n",
       "23                                     Independent       ynmp-party:2   \n",
       "24                                     Green Party              PP305   \n",
       "25              Democratic Unionist Party - D.U.P.               PP70   \n",
       "26                                       Sinn Féin               PP39   \n",
       "27              Cross-Community Labour Alternative             PP4037   \n",
       "\n",
       "    constituency  count_stage    count  quota  \n",
       "14  belfast-east            2  5313.17   6727  \n",
       "15  belfast-east            2   276.32   6727  \n",
       "16  belfast-east            2  6016.02   6727  \n",
       "17  belfast-east            2  4435.18   6727  \n",
       "18  belfast-east            2   260.45   6727  \n",
       "19  belfast-east            2   918.65   6727  \n",
       "20  belfast-east            2  2673.29   6727  \n",
       "21  belfast-east            2  6727.00   6727  \n",
       "22  belfast-east            2  5760.03   6727  \n",
       "23  belfast-east            2    85.43   6727  \n",
       "24  belfast-east            2  1474.06   6727  \n",
       "25  belfast-east            2  4734.50   6727  \n",
       "26  belfast-east            2  1183.34   6727  \n",
       "27  belfast-east            2   449.48   6727  "
      ]
     },
     "execution_count": 81,
     "metadata": {},
     "output_type": "execute_result"
    }
   ],
   "source": [
    "#Then need to go on to the next stage\n",
    "transferable_votes = elected['count'] - quota\n",
    "origin_party = elected['candidate_party_id']\n",
    "transfers = df[df['count_stage']==2]\n",
    "transfers"
   ]
  },
  {
   "cell_type": "code",
   "execution_count": 84,
   "id": "82bd1e11",
   "metadata": {
    "pycharm": {
     "name": "#%%\n"
    }
   },
   "outputs": [],
   "source": [
    "transfers = df.set_index(['candidate_party_id','candidate_id','count_stage']).sort_index()['count'].groupby('candidate_id').diff()"
   ]
  },
  {
   "cell_type": "code",
   "execution_count": 85,
   "id": "85b404b7",
   "metadata": {
    "pycharm": {
     "name": "#%%\n"
    }
   },
   "outputs": [],
   "source": [
    "party_transfers = transfers.unstack('count_stage')[2].groupby('candidate_party_id').sum()\n",
    "party_transfers[origin_party]+=transferable_votes"
   ]
  },
  {
   "cell_type": "code",
   "execution_count": 88,
   "id": "505cc77e",
   "metadata": {
    "pycharm": {
     "name": "#%%\n"
    }
   },
   "outputs": [
    {
     "data": {
      "text/plain": [
       "candidate_party_id\n",
       "PP51            0.000196\n",
       "ynmp-party:2    0.000213\n",
       "PP680           0.000245\n",
       "PP4037          0.001112\n",
       "PP39            0.001537\n",
       "PP55            0.001553\n",
       "PP101           0.002273\n",
       "PP70            0.002780\n",
       "PP305           0.004023\n",
       "PP83            0.005674\n",
       "PP103           0.104211\n",
       "Name: 2, dtype: float64"
      ]
     },
     "execution_count": 88,
     "metadata": {},
     "output_type": "execute_result"
    }
   ],
   "source": [
    "(party_transfers/quota).sort_values()"
   ]
  },
  {
   "cell_type": "code",
   "execution_count": 160,
   "id": "fbb5da3b",
   "metadata": {
    "pycharm": {
     "name": "#%%\n"
    }
   },
   "outputs": [
    {
     "data": {
      "text/plain": [
       "count_stage\n",
       "1        0.00\n",
       "2      832.92\n",
       "3       83.21\n",
       "4      246.01\n",
       "5      710.80\n",
       "6      894.65\n",
       "7      622.02\n",
       "8     1463.98\n",
       "9     2466.06\n",
       "10     163.00\n",
       "11     525.98\n",
       "dtype: float64"
      ]
     },
     "execution_count": 160,
     "metadata": {},
     "output_type": "execute_result"
    }
   ],
   "source": [
    "transfers = df.set_index(\n",
    "    ['candidate_party_name','candidate_id','count_stage']\n",
    ").sort_index()['count'].groupby('candidate_id').diff().unstack('count_stage')\n",
    "transfers[transfers>0].sum()"
   ]
  },
  {
   "cell_type": "code",
   "execution_count": 161,
   "id": "d203b47b",
   "metadata": {
    "pycharm": {
     "name": "#%%\n"
    }
   },
   "outputs": [
    {
     "name": "stdout",
     "output_type": "stream",
     "text": [
      "Naomi Long elected in 1 with 883.0 to transfer\n"
     ]
    },
    {
     "name": "stderr",
     "output_type": "stream",
     "text": [
      "C:\\Users\\me\\AppData\\Local\\Temp\\ipykernel_29884\\2080685566.py:11: UserWarning: Boolean Series key will be reindexed to match DataFrame index.\n",
      "  quota_candidates = candidates[(sdf['count']>quota)].sort_values(ascending=False,by='count')\n"
     ]
    },
    {
     "name": "stdout",
     "output_type": "stream",
     "text": [
      "Jordy McKeag excluded in 3 with 0.0 to transfer\n",
      "Séamas de Faoite excluded in 4 with 0.0 to transfer\n",
      "Sheila Bodel excluded in 5 with 0.0 to transfer\n",
      "Courtney Robinson excluded in 5 with 0.0 to transfer\n",
      "Andrew Girvin excluded in 6 with 0.0 to transfer\n",
      "Mairéad O'Donnell excluded in 7 with 0.0 to transfer\n",
      "Chris Lyttle elected in 8 with 541.8699999999999 to transfer\n"
     ]
    },
    {
     "name": "stderr",
     "output_type": "stream",
     "text": [
      "C:\\Users\\me\\AppData\\Local\\Temp\\ipykernel_29884\\2080685566.py:11: UserWarning: Boolean Series key will be reindexed to match DataFrame index.\n",
      "  quota_candidates = candidates[(sdf['count']>quota)].sort_values(ascending=False,by='count')\n"
     ]
    },
    {
     "name": "stdout",
     "output_type": "stream",
     "text": [
      "Andy Allen elected in 9 with 530.6199999999999 to transfer\n",
      "Joanne Bunting elected in 9 with 562.6300000000001 to transfer\n"
     ]
    },
    {
     "name": "stderr",
     "output_type": "stream",
     "text": [
      "C:\\Users\\me\\AppData\\Local\\Temp\\ipykernel_29884\\2080685566.py:11: UserWarning: Boolean Series key will be reindexed to match DataFrame index.\n",
      "  quota_candidates = candidates[(sdf['count']>quota)].sort_values(ascending=False,by='count')\n"
     ]
    },
    {
     "name": "stdout",
     "output_type": "stream",
     "text": [
      "John Kyle excluded in 10 with 0.0 to transfer\n",
      "Georgina Milne excluded in 10 with 0.0 to transfer\n",
      "1 seats remain\n"
     ]
    }
   ],
   "source": [
    "elected = []\n",
    "excluded = []\n",
    "transferables = []\n",
    "seats = 5\n",
    "for stage, sdf in df.groupby('count_stage'):\n",
    "    transferable_votes = 0\n",
    "    candidates = sdf[\n",
    "            (~sdf['candidate_id'].isin({e['candidate_id'] for e in elected})) &\\\n",
    "            (~sdf['candidate_id'].isin({e['candidate_id'] for e in excluded}))\n",
    "        ]\n",
    "    quota_candidates = candidates[(sdf['count']>quota)].sort_values(ascending=False,by='count')\n",
    "    if quota_candidates.size:\n",
    "        # add top to elected, do transfers next round\n",
    "        for _,candidate in quota_candidates.iterrows():\n",
    "            candidate['elected_in']=stage\n",
    "            elected.append(candidate)\n",
    "            transferable_votes += candidate['count'] - quota\n",
    "            print(f\"{candidate['candidate_name']} elected in {stage} with {transferable_votes} to transfer\")\n",
    "    else:\n",
    "        excluded_candidates = candidates[candidates['count']==0]\n",
    "        for _,candidate in excluded_candidates.iterrows():\n",
    "            excluded_candidate = candidate.to_dict()\n",
    "            excluded_candidate['excluded_in']=stage\n",
    "            excluded.append(excluded_candidate)\n",
    "            transferable_votes += candidate['count']\n",
    "            print(f\"{excluded_candidate['candidate_name']} excluded in {stage} with {candidate['count']} to transfer\")\n",
    "    \n",
    "    transferables.append(transferable_votes)\n",
    "        \n",
    "remainder = seats - len(elected)\n",
    "if remainder:\n",
    "    print(f\"{remainder} seats remain\")"
   ]
  },
  {
   "cell_type": "code",
   "execution_count": 133,
   "id": "c69f228c",
   "metadata": {
    "pycharm": {
     "name": "#%%\n"
    }
   },
   "outputs": [
    {
     "data": {
      "text/html": [
       "<div>\n",
       "<style scoped>\n",
       "    .dataframe tbody tr th:only-of-type {\n",
       "        vertical-align: middle;\n",
       "    }\n",
       "\n",
       "    .dataframe tbody tr th {\n",
       "        vertical-align: top;\n",
       "    }\n",
       "\n",
       "    .dataframe thead th {\n",
       "        text-align: right;\n",
       "    }\n",
       "</style>\n",
       "<table border=\"1\" class=\"dataframe\">\n",
       "  <thead>\n",
       "    <tr style=\"text-align: right;\">\n",
       "      <th></th>\n",
       "      <th>candidate_id</th>\n",
       "      <th>candidate_name</th>\n",
       "      <th>candidate_party_name</th>\n",
       "      <th>candidate_party_id</th>\n",
       "      <th>constituency</th>\n",
       "      <th>count_stage</th>\n",
       "      <th>count</th>\n",
       "      <th>quota</th>\n",
       "    </tr>\n",
       "  </thead>\n",
       "  <tbody>\n",
       "    <tr>\n",
       "      <th>151</th>\n",
       "      <td>13040</td>\n",
       "      <td>Robin Newton</td>\n",
       "      <td>Democratic Unionist Party - D.U.P.</td>\n",
       "      <td>PP70</td>\n",
       "      <td>belfast-east</td>\n",
       "      <td>11</td>\n",
       "      <td>5541.65</td>\n",
       "      <td>6727</td>\n",
       "    </tr>\n",
       "    <tr>\n",
       "      <th>143</th>\n",
       "      <td>19687</td>\n",
       "      <td>David Douglas</td>\n",
       "      <td>Democratic Unionist Party - D.U.P.</td>\n",
       "      <td>PP70</td>\n",
       "      <td>belfast-east</td>\n",
       "      <td>11</td>\n",
       "      <td>5410.84</td>\n",
       "      <td>6727</td>\n",
       "    </tr>\n",
       "    <tr>\n",
       "      <th>141</th>\n",
       "      <td>19719</td>\n",
       "      <td>Sheila Bodel</td>\n",
       "      <td>Conservative and Unionist Party</td>\n",
       "      <td>PP51</td>\n",
       "      <td>belfast-east</td>\n",
       "      <td>11</td>\n",
       "      <td>0.00</td>\n",
       "      <td>6727</td>\n",
       "    </tr>\n",
       "    <tr>\n",
       "      <th>144</th>\n",
       "      <td>19745</td>\n",
       "      <td>Séamas de Faoite</td>\n",
       "      <td>SDLP (Social Democratic &amp; Labour Party)</td>\n",
       "      <td>PP55</td>\n",
       "      <td>belfast-east</td>\n",
       "      <td>11</td>\n",
       "      <td>0.00</td>\n",
       "      <td>6727</td>\n",
       "    </tr>\n",
       "    <tr>\n",
       "      <th>145</th>\n",
       "      <td>13035</td>\n",
       "      <td>Andrew Girvin</td>\n",
       "      <td>Traditional Unionist Voice - TUV</td>\n",
       "      <td>PP680</td>\n",
       "      <td>belfast-east</td>\n",
       "      <td>11</td>\n",
       "      <td>0.00</td>\n",
       "      <td>6727</td>\n",
       "    </tr>\n",
       "    <tr>\n",
       "      <th>146</th>\n",
       "      <td>13037</td>\n",
       "      <td>John Kyle</td>\n",
       "      <td>Progressive Unionist Party of Northern Ireland</td>\n",
       "      <td>PP101</td>\n",
       "      <td>belfast-east</td>\n",
       "      <td>11</td>\n",
       "      <td>0.00</td>\n",
       "      <td>6727</td>\n",
       "    </tr>\n",
       "    <tr>\n",
       "      <th>149</th>\n",
       "      <td>19746</td>\n",
       "      <td>Jordy McKeag</td>\n",
       "      <td>Independent</td>\n",
       "      <td>ynmp-party:2</td>\n",
       "      <td>belfast-east</td>\n",
       "      <td>11</td>\n",
       "      <td>0.00</td>\n",
       "      <td>6727</td>\n",
       "    </tr>\n",
       "    <tr>\n",
       "      <th>150</th>\n",
       "      <td>19699</td>\n",
       "      <td>Georgina Milne</td>\n",
       "      <td>Green Party</td>\n",
       "      <td>PP305</td>\n",
       "      <td>belfast-east</td>\n",
       "      <td>11</td>\n",
       "      <td>0.00</td>\n",
       "      <td>6727</td>\n",
       "    </tr>\n",
       "    <tr>\n",
       "      <th>152</th>\n",
       "      <td>19680</td>\n",
       "      <td>Mairéad O'Donnell</td>\n",
       "      <td>Sinn Féin</td>\n",
       "      <td>PP39</td>\n",
       "      <td>belfast-east</td>\n",
       "      <td>11</td>\n",
       "      <td>0.00</td>\n",
       "      <td>6727</td>\n",
       "    </tr>\n",
       "    <tr>\n",
       "      <th>153</th>\n",
       "      <td>13041</td>\n",
       "      <td>Courtney Robinson</td>\n",
       "      <td>Cross-Community Labour Alternative</td>\n",
       "      <td>PP4037</td>\n",
       "      <td>belfast-east</td>\n",
       "      <td>11</td>\n",
       "      <td>0.00</td>\n",
       "      <td>6727</td>\n",
       "    </tr>\n",
       "  </tbody>\n",
       "</table>\n",
       "</div>"
      ],
      "text/plain": [
       "     candidate_id     candidate_name  \\\n",
       "151         13040       Robin Newton   \n",
       "143         19687      David Douglas   \n",
       "141         19719       Sheila Bodel   \n",
       "144         19745   Séamas de Faoite   \n",
       "145         13035      Andrew Girvin   \n",
       "146         13037          John Kyle   \n",
       "149         19746       Jordy McKeag   \n",
       "150         19699     Georgina Milne   \n",
       "152         19680  Mairéad O'Donnell   \n",
       "153         13041  Courtney Robinson   \n",
       "\n",
       "                               candidate_party_name candidate_party_id  \\\n",
       "151              Democratic Unionist Party - D.U.P.               PP70   \n",
       "143              Democratic Unionist Party - D.U.P.               PP70   \n",
       "141                 Conservative and Unionist Party               PP51   \n",
       "144         SDLP (Social Democratic & Labour Party)               PP55   \n",
       "145                Traditional Unionist Voice - TUV              PP680   \n",
       "146  Progressive Unionist Party of Northern Ireland              PP101   \n",
       "149                                     Independent       ynmp-party:2   \n",
       "150                                     Green Party              PP305   \n",
       "152                                       Sinn Féin               PP39   \n",
       "153              Cross-Community Labour Alternative             PP4037   \n",
       "\n",
       "     constituency  count_stage    count  quota  \n",
       "151  belfast-east           11  5541.65   6727  \n",
       "143  belfast-east           11  5410.84   6727  \n",
       "141  belfast-east           11     0.00   6727  \n",
       "144  belfast-east           11     0.00   6727  \n",
       "145  belfast-east           11     0.00   6727  \n",
       "146  belfast-east           11     0.00   6727  \n",
       "149  belfast-east           11     0.00   6727  \n",
       "150  belfast-east           11     0.00   6727  \n",
       "152  belfast-east           11     0.00   6727  \n",
       "153  belfast-east           11     0.00   6727  "
      ]
     },
     "execution_count": 133,
     "metadata": {},
     "output_type": "execute_result"
    }
   ],
   "source": [
    "sdf[~sdf['candidate_id'].isin({e['candidate_id'] for e in elected})].sort_values(by='count', ascending=False)"
   ]
  },
  {
   "cell_type": "code",
   "execution_count": 134,
   "id": "2d6d6073",
   "metadata": {
    "pycharm": {
     "name": "#%%\n"
    }
   },
   "outputs": [
    {
     "data": {
      "text/html": [
       "<div>\n",
       "<style scoped>\n",
       "    .dataframe tbody tr th:only-of-type {\n",
       "        vertical-align: middle;\n",
       "    }\n",
       "\n",
       "    .dataframe tbody tr th {\n",
       "        vertical-align: top;\n",
       "    }\n",
       "\n",
       "    .dataframe thead th {\n",
       "        text-align: right;\n",
       "    }\n",
       "</style>\n",
       "<table border=\"1\" class=\"dataframe\">\n",
       "  <thead>\n",
       "    <tr style=\"text-align: right;\">\n",
       "      <th></th>\n",
       "      <th>candidate_id</th>\n",
       "      <th>candidate_name</th>\n",
       "      <th>candidate_party_name</th>\n",
       "      <th>candidate_party_id</th>\n",
       "      <th>constituency</th>\n",
       "      <th>count_stage</th>\n",
       "      <th>count</th>\n",
       "      <th>quota</th>\n",
       "    </tr>\n",
       "  </thead>\n",
       "  <tbody>\n",
       "    <tr>\n",
       "      <th>142</th>\n",
       "      <td>13032</td>\n",
       "      <td>Joanne Bunting</td>\n",
       "      <td>Democratic Unionist Party - D.U.P.</td>\n",
       "      <td>PP70</td>\n",
       "      <td>belfast-east</td>\n",
       "      <td>11</td>\n",
       "      <td>6759.01</td>\n",
       "      <td>6727</td>\n",
       "    </tr>\n",
       "    <tr>\n",
       "      <th>140</th>\n",
       "      <td>8116</td>\n",
       "      <td>Andy Allen</td>\n",
       "      <td>Ulster Unionist Party</td>\n",
       "      <td>PP83</td>\n",
       "      <td>belfast-east</td>\n",
       "      <td>11</td>\n",
       "      <td>6727.00</td>\n",
       "      <td>6727</td>\n",
       "    </tr>\n",
       "    <tr>\n",
       "      <th>147</th>\n",
       "      <td>2454</td>\n",
       "      <td>Naomi Long</td>\n",
       "      <td>Alliance - Alliance Party of Northern Ireland</td>\n",
       "      <td>PP103</td>\n",
       "      <td>belfast-east</td>\n",
       "      <td>11</td>\n",
       "      <td>6727.00</td>\n",
       "      <td>6727</td>\n",
       "    </tr>\n",
       "    <tr>\n",
       "      <th>148</th>\n",
       "      <td>13038</td>\n",
       "      <td>Chris Lyttle</td>\n",
       "      <td>Alliance - Alliance Party of Northern Ireland</td>\n",
       "      <td>PP103</td>\n",
       "      <td>belfast-east</td>\n",
       "      <td>11</td>\n",
       "      <td>6727.00</td>\n",
       "      <td>6727</td>\n",
       "    </tr>\n",
       "  </tbody>\n",
       "</table>\n",
       "</div>"
      ],
      "text/plain": [
       "     candidate_id  candidate_name  \\\n",
       "142         13032  Joanne Bunting   \n",
       "140          8116      Andy Allen   \n",
       "147          2454      Naomi Long   \n",
       "148         13038    Chris Lyttle   \n",
       "\n",
       "                              candidate_party_name candidate_party_id  \\\n",
       "142             Democratic Unionist Party - D.U.P.               PP70   \n",
       "140                          Ulster Unionist Party               PP83   \n",
       "147  Alliance - Alliance Party of Northern Ireland              PP103   \n",
       "148  Alliance - Alliance Party of Northern Ireland              PP103   \n",
       "\n",
       "     constituency  count_stage    count  quota  \n",
       "142  belfast-east           11  6759.01   6727  \n",
       "140  belfast-east           11  6727.00   6727  \n",
       "147  belfast-east           11  6727.00   6727  \n",
       "148  belfast-east           11  6727.00   6727  "
      ]
     },
     "execution_count": 134,
     "metadata": {},
     "output_type": "execute_result"
    }
   ],
   "source": [
    "sdf[sdf['candidate_id'].isin({e['candidate_id'] for e in elected})].sort_values(by='count', ascending=False)"
   ]
  },
  {
   "cell_type": "markdown",
   "id": "fb43b3eb",
   "metadata": {
    "pycharm": {
     "name": "#%% md\n"
    }
   },
   "source": [
    "### Need to think about this differently; \n",
    "\n",
    "The 'count stage' actually has two passes that are compressed into one action if you go purely by the results/outcomes. \n",
    "\n",
    "* Assess the current vote tally, including any transfers from the previous round\n",
    "* Flag one of more individuals as elected/excluded, their transfers to be 'executed' in the next round. \n",
    "\n",
    "So in 'input' to the stages isn't the final counts from the last round but is the "
   ]
  },
  {
   "cell_type": "code",
   "execution_count": 314,
   "id": "aa6f2657",
   "metadata": {
    "pycharm": {
     "name": "#%%\n"
    }
   },
   "outputs": [
    {
     "name": "stdout",
     "output_type": "stream",
     "text": [
      "Naomi Long elected in 1 with 883.0 to transfer\n",
      "Jordy McKeag excluded in 2 with 85.43 to transfer\n",
      "Séamas de Faoite excluded in 3 with 260.56 to transfer\n",
      "Sheila Bodel excluded in 4 with 280.43 to transfer\n",
      "Courtney Robinson excluded in 4 with 467.81 to transfer\n",
      "Andrew Girvin excluded in 5 with 958.87 to transfer\n",
      "Mairéad O'Donnell excluded in 6 with 1235.1 to transfer\n",
      "Georgina Milne excluded in 7 with 2080.65 to transfer\n",
      "John Kyle excluded in 8 with 3148.79 to transfer\n",
      "Chris Lyttle elected in 8 with 541.8699999999999 to transfer\n",
      "David Douglas excluded in 9 with 4995.25 to transfer\n",
      "Andy Allen elected in 9 with 530.6199999999999 to transfer\n",
      "Joanne Bunting elected in 9 with 32.01000000000022 to transfer\n",
      "Robin Newton elected in 10\n"
     ]
    }
   ],
   "source": [
    "from collections import defaultdict\n",
    "\n",
    "quota = df['quota'].max()\n",
    "\n",
    "elected = []\n",
    "excluded = []\n",
    "transferables = defaultdict(list)\n",
    "\n",
    "seats = 5\n",
    "candidate_final_tallies = df.groupby('candidate_id')['count'].max()\n",
    "\n",
    "for stage, sdf in df.groupby('count_stage'):\n",
    "    \n",
    "    candidates = sdf[\n",
    "            (~sdf['candidate_id'].isin({e['candidate_id'] for e in elected})) &\\\n",
    "            (~sdf['candidate_id'].isin({e['candidate_id'] for e in excluded}))\n",
    "        ].sort_values(ascending=True, by='count')\n",
    "    \n",
    "    remainder = seats - len(elected)\n",
    "    \n",
    "    if remainder == len(candidates.index): # Stages have ended, take whomever is left:\n",
    "        for _, candidate in candidates.iterrows():\n",
    "            elected_candidate = candidate.to_dict()\n",
    "            elected_candidate['elected_in']=stage\n",
    "            elected.append(elected_candidate)\n",
    "            print(f\"{elected_candidate['candidate_name']} elected in {stage}\")\n",
    "        break\n",
    "        \n",
    "    if stage > 1:\n",
    "        # This is black magic taken from the Electoral Reform Society; \n",
    "        # 5.2.5 If, after all surpluses have been transferred or deferred, one or more places remain to be filled, the candidate or candidates with the fewest votes must be excluded. Exclude as many candidates together as possible, provided that:\n",
    "        # (a) Sufficient candidates remain to fill all the remaining places\n",
    "        # (b) The total votes of these candidates, together with the total of any deferred surpluses, does not exceed the vote of the candidate next above.\n",
    "\n",
    "        candidates['cumsum'] = candidates['count'].cumsum()\n",
    "        candidates['excluded'] = candidates['count'].shift(-1)>candidates['cumsum']\n",
    "        for _,candidate in candidates[candidates['excluded']].iterrows():\n",
    "            excluded_candidate = candidate.to_dict()\n",
    "            if excluded_candidate['count'] <= 0.0:\n",
    "\n",
    "                excluded_candidate['count'] = candidate_final_tallies[excluded_candidate['candidate_id']]\n",
    "            excluded_candidate['excluded_in']=stage\n",
    "            excluded.append(excluded_candidate)\n",
    "            transferable_votes = excluded_candidate['count']\n",
    "            transferables[stage+1].append((excluded_candidate, transferable_votes))\n",
    "            print(f\"{excluded_candidate['candidate_name']} excluded in {stage} with {transferable_votes} to transfer\")\n",
    "        \n",
    "\n",
    "    # add top to elected, do transfers next round\n",
    "    for _,candidate in candidates[candidates['count']>quota][::-1].iterrows():\n",
    "        elected_candidate = candidate.to_dict()\n",
    "        elected_candidate['elected_in']=stage\n",
    "        elected.append(elected_candidate)\n",
    "        transferable_votes = elected_candidate['count'] - quota\n",
    "        transferables[stage+1].append((elected_candidate, transferable_votes))\n",
    "        print(f\"{elected_candidate['candidate_name']} elected in {stage} with {transferable_votes} to transfer\")\n",
    "    \n",
    "\n",
    "    "
   ]
  },
  {
   "cell_type": "code",
   "execution_count": 296,
   "id": "b8a1fe4c",
   "metadata": {
    "pycharm": {
     "name": "#%%\n"
    }
   },
   "outputs": [
    {
     "data": {
      "text/plain": [
       "{'Andy Allen', 'Chris Lyttle', 'Joanne Bunting', 'Naomi Long', 'Robin Newton'}"
      ]
     },
     "execution_count": 296,
     "metadata": {},
     "output_type": "execute_result"
    }
   ],
   "source": [
    "{e['candidate_name'] for e in elected}"
   ]
  },
  {
   "cell_type": "code",
   "execution_count": 306,
   "id": "7ba1a565",
   "metadata": {
    "pycharm": {
     "name": "#%%\n"
    }
   },
   "outputs": [
    {
     "data": {
      "text/html": [
       "<div>\n",
       "<style scoped>\n",
       "    .dataframe tbody tr th:only-of-type {\n",
       "        vertical-align: middle;\n",
       "    }\n",
       "\n",
       "    .dataframe tbody tr th {\n",
       "        vertical-align: top;\n",
       "    }\n",
       "\n",
       "    .dataframe thead th {\n",
       "        text-align: right;\n",
       "    }\n",
       "</style>\n",
       "<table border=\"1\" class=\"dataframe\">\n",
       "  <thead>\n",
       "    <tr style=\"text-align: right;\">\n",
       "      <th></th>\n",
       "      <th>count_stage</th>\n",
       "      <th>1</th>\n",
       "      <th>2</th>\n",
       "      <th>3</th>\n",
       "      <th>4</th>\n",
       "      <th>5</th>\n",
       "      <th>6</th>\n",
       "      <th>7</th>\n",
       "      <th>8</th>\n",
       "      <th>9</th>\n",
       "      <th>10</th>\n",
       "      <th>11</th>\n",
       "    </tr>\n",
       "    <tr>\n",
       "      <th>candidate_party_name</th>\n",
       "      <th>candidate_id</th>\n",
       "      <th></th>\n",
       "      <th></th>\n",
       "      <th></th>\n",
       "      <th></th>\n",
       "      <th></th>\n",
       "      <th></th>\n",
       "      <th></th>\n",
       "      <th></th>\n",
       "      <th></th>\n",
       "      <th></th>\n",
       "      <th></th>\n",
       "    </tr>\n",
       "  </thead>\n",
       "  <tbody>\n",
       "    <tr>\n",
       "      <th rowspan=\"2\" valign=\"top\">Alliance - Alliance Party of Northern Ireland</th>\n",
       "      <th>2454</th>\n",
       "      <td>NaN</td>\n",
       "      <td>-883.00</td>\n",
       "      <td>0.00</td>\n",
       "      <td>0.00</td>\n",
       "      <td>0.00</td>\n",
       "      <td>0.00</td>\n",
       "      <td>0.00</td>\n",
       "      <td>0.00</td>\n",
       "      <td>0.00</td>\n",
       "      <td>0.00</td>\n",
       "      <td>0.00</td>\n",
       "    </tr>\n",
       "    <tr>\n",
       "      <th>13038</th>\n",
       "      <td>NaN</td>\n",
       "      <td>701.03</td>\n",
       "      <td>20.22</td>\n",
       "      <td>105.61</td>\n",
       "      <td>146.95</td>\n",
       "      <td>39.33</td>\n",
       "      <td>295.73</td>\n",
       "      <td>901.00</td>\n",
       "      <td>0.00</td>\n",
       "      <td>-541.87</td>\n",
       "      <td>0.00</td>\n",
       "    </tr>\n",
       "    <tr>\n",
       "      <th>Conservative and Unionist Party</th>\n",
       "      <th>19719</th>\n",
       "      <td>NaN</td>\n",
       "      <td>1.32</td>\n",
       "      <td>2.11</td>\n",
       "      <td>2.00</td>\n",
       "      <td>-280.43</td>\n",
       "      <td>0.00</td>\n",
       "      <td>0.00</td>\n",
       "      <td>0.00</td>\n",
       "      <td>0.00</td>\n",
       "      <td>0.00</td>\n",
       "      <td>0.00</td>\n",
       "    </tr>\n",
       "    <tr>\n",
       "      <th>Cross-Community Labour Alternative</th>\n",
       "      <th>13041</th>\n",
       "      <td>NaN</td>\n",
       "      <td>7.48</td>\n",
       "      <td>7.00</td>\n",
       "      <td>11.33</td>\n",
       "      <td>-467.81</td>\n",
       "      <td>0.00</td>\n",
       "      <td>0.00</td>\n",
       "      <td>0.00</td>\n",
       "      <td>0.00</td>\n",
       "      <td>0.00</td>\n",
       "      <td>0.00</td>\n",
       "    </tr>\n",
       "    <tr>\n",
       "      <th rowspan=\"3\" valign=\"top\">Democratic Unionist Party - D.U.P.</th>\n",
       "      <th>13032</th>\n",
       "      <td>NaN</td>\n",
       "      <td>9.02</td>\n",
       "      <td>5.00</td>\n",
       "      <td>5.11</td>\n",
       "      <td>31.22</td>\n",
       "      <td>160.11</td>\n",
       "      <td>11.00</td>\n",
       "      <td>46.55</td>\n",
       "      <td>484.00</td>\n",
       "      <td>0.00</td>\n",
       "      <td>0.00</td>\n",
       "    </tr>\n",
       "    <tr>\n",
       "      <th>13040</th>\n",
       "      <td>NaN</td>\n",
       "      <td>5.50</td>\n",
       "      <td>2.00</td>\n",
       "      <td>3.00</td>\n",
       "      <td>35.00</td>\n",
       "      <td>88.11</td>\n",
       "      <td>3.00</td>\n",
       "      <td>25.11</td>\n",
       "      <td>377.54</td>\n",
       "      <td>65.00</td>\n",
       "      <td>208.39</td>\n",
       "    </tr>\n",
       "    <tr>\n",
       "      <th>19687</th>\n",
       "      <td>NaN</td>\n",
       "      <td>4.18</td>\n",
       "      <td>1.00</td>\n",
       "      <td>4.00</td>\n",
       "      <td>15.22</td>\n",
       "      <td>113.00</td>\n",
       "      <td>4.00</td>\n",
       "      <td>27.33</td>\n",
       "      <td>395.52</td>\n",
       "      <td>98.00</td>\n",
       "      <td>317.59</td>\n",
       "    </tr>\n",
       "    <tr>\n",
       "      <th>Green Party</th>\n",
       "      <th>19699</th>\n",
       "      <td>NaN</td>\n",
       "      <td>27.06</td>\n",
       "      <td>26.22</td>\n",
       "      <td>39.21</td>\n",
       "      <td>223.87</td>\n",
       "      <td>38.22</td>\n",
       "      <td>279.07</td>\n",
       "      <td>-2080.65</td>\n",
       "      <td>0.00</td>\n",
       "      <td>0.00</td>\n",
       "      <td>0.00</td>\n",
       "    </tr>\n",
       "    <tr>\n",
       "      <th>Independent</th>\n",
       "      <th>19746</th>\n",
       "      <td>NaN</td>\n",
       "      <td>1.43</td>\n",
       "      <td>-85.43</td>\n",
       "      <td>0.00</td>\n",
       "      <td>0.00</td>\n",
       "      <td>0.00</td>\n",
       "      <td>0.00</td>\n",
       "      <td>0.00</td>\n",
       "      <td>0.00</td>\n",
       "      <td>0.00</td>\n",
       "      <td>0.00</td>\n",
       "    </tr>\n",
       "    <tr>\n",
       "      <th>Progressive Unionist Party of Northern Ireland</th>\n",
       "      <th>13037</th>\n",
       "      <td>NaN</td>\n",
       "      <td>15.29</td>\n",
       "      <td>5.22</td>\n",
       "      <td>7.22</td>\n",
       "      <td>66.22</td>\n",
       "      <td>184.33</td>\n",
       "      <td>14.00</td>\n",
       "      <td>198.51</td>\n",
       "      <td>-3148.79</td>\n",
       "      <td>0.00</td>\n",
       "      <td>0.00</td>\n",
       "    </tr>\n",
       "    <tr>\n",
       "      <th>SDLP (Social Democratic &amp; Labour Party)</th>\n",
       "      <th>19745</th>\n",
       "      <td>NaN</td>\n",
       "      <td>10.45</td>\n",
       "      <td>0.11</td>\n",
       "      <td>-260.56</td>\n",
       "      <td>0.00</td>\n",
       "      <td>0.00</td>\n",
       "      <td>0.00</td>\n",
       "      <td>0.00</td>\n",
       "      <td>0.00</td>\n",
       "      <td>0.00</td>\n",
       "      <td>0.00</td>\n",
       "    </tr>\n",
       "    <tr>\n",
       "      <th>Sinn Féin</th>\n",
       "      <th>19680</th>\n",
       "      <td>NaN</td>\n",
       "      <td>10.34</td>\n",
       "      <td>2.11</td>\n",
       "      <td>31.21</td>\n",
       "      <td>16.22</td>\n",
       "      <td>2.22</td>\n",
       "      <td>-1235.10</td>\n",
       "      <td>0.00</td>\n",
       "      <td>0.00</td>\n",
       "      <td>0.00</td>\n",
       "      <td>0.00</td>\n",
       "    </tr>\n",
       "    <tr>\n",
       "      <th>Traditional Unionist Voice - TUV</th>\n",
       "      <th>13035</th>\n",
       "      <td>NaN</td>\n",
       "      <td>1.65</td>\n",
       "      <td>2.00</td>\n",
       "      <td>4.11</td>\n",
       "      <td>34.11</td>\n",
       "      <td>-958.87</td>\n",
       "      <td>0.00</td>\n",
       "      <td>0.00</td>\n",
       "      <td>0.00</td>\n",
       "      <td>0.00</td>\n",
       "      <td>0.00</td>\n",
       "    </tr>\n",
       "    <tr>\n",
       "      <th>Ulster Unionist Party</th>\n",
       "      <th>8116</th>\n",
       "      <td>NaN</td>\n",
       "      <td>38.17</td>\n",
       "      <td>10.22</td>\n",
       "      <td>33.21</td>\n",
       "      <td>141.99</td>\n",
       "      <td>269.33</td>\n",
       "      <td>15.22</td>\n",
       "      <td>265.48</td>\n",
       "      <td>1209.00</td>\n",
       "      <td>0.00</td>\n",
       "      <td>-530.62</td>\n",
       "    </tr>\n",
       "  </tbody>\n",
       "</table>\n",
       "</div>"
      ],
      "text/plain": [
       "count_stage                                                  1       2   \\\n",
       "candidate_party_name                           candidate_id               \n",
       "Alliance - Alliance Party of Northern Ireland  2454         NaN -883.00   \n",
       "                                               13038        NaN  701.03   \n",
       "Conservative and Unionist Party                19719        NaN    1.32   \n",
       "Cross-Community Labour Alternative             13041        NaN    7.48   \n",
       "Democratic Unionist Party - D.U.P.             13032        NaN    9.02   \n",
       "                                               13040        NaN    5.50   \n",
       "                                               19687        NaN    4.18   \n",
       "Green Party                                    19699        NaN   27.06   \n",
       "Independent                                    19746        NaN    1.43   \n",
       "Progressive Unionist Party of Northern Ireland 13037        NaN   15.29   \n",
       "SDLP (Social Democratic & Labour Party)        19745        NaN   10.45   \n",
       "Sinn Féin                                      19680        NaN   10.34   \n",
       "Traditional Unionist Voice - TUV               13035        NaN    1.65   \n",
       "Ulster Unionist Party                          8116         NaN   38.17   \n",
       "\n",
       "count_stage                                                     3       4   \\\n",
       "candidate_party_name                           candidate_id                  \n",
       "Alliance - Alliance Party of Northern Ireland  2454           0.00    0.00   \n",
       "                                               13038         20.22  105.61   \n",
       "Conservative and Unionist Party                19719          2.11    2.00   \n",
       "Cross-Community Labour Alternative             13041          7.00   11.33   \n",
       "Democratic Unionist Party - D.U.P.             13032          5.00    5.11   \n",
       "                                               13040          2.00    3.00   \n",
       "                                               19687          1.00    4.00   \n",
       "Green Party                                    19699         26.22   39.21   \n",
       "Independent                                    19746        -85.43    0.00   \n",
       "Progressive Unionist Party of Northern Ireland 13037          5.22    7.22   \n",
       "SDLP (Social Democratic & Labour Party)        19745          0.11 -260.56   \n",
       "Sinn Féin                                      19680          2.11   31.21   \n",
       "Traditional Unionist Voice - TUV               13035          2.00    4.11   \n",
       "Ulster Unionist Party                          8116          10.22   33.21   \n",
       "\n",
       "count_stage                                                      5       6   \\\n",
       "candidate_party_name                           candidate_id                   \n",
       "Alliance - Alliance Party of Northern Ireland  2454            0.00    0.00   \n",
       "                                               13038         146.95   39.33   \n",
       "Conservative and Unionist Party                19719        -280.43    0.00   \n",
       "Cross-Community Labour Alternative             13041        -467.81    0.00   \n",
       "Democratic Unionist Party - D.U.P.             13032          31.22  160.11   \n",
       "                                               13040          35.00   88.11   \n",
       "                                               19687          15.22  113.00   \n",
       "Green Party                                    19699         223.87   38.22   \n",
       "Independent                                    19746           0.00    0.00   \n",
       "Progressive Unionist Party of Northern Ireland 13037          66.22  184.33   \n",
       "SDLP (Social Democratic & Labour Party)        19745           0.00    0.00   \n",
       "Sinn Féin                                      19680          16.22    2.22   \n",
       "Traditional Unionist Voice - TUV               13035          34.11 -958.87   \n",
       "Ulster Unionist Party                          8116          141.99  269.33   \n",
       "\n",
       "count_stage                                                       7        8   \\\n",
       "candidate_party_name                           candidate_id                     \n",
       "Alliance - Alliance Party of Northern Ireland  2454             0.00     0.00   \n",
       "                                               13038          295.73   901.00   \n",
       "Conservative and Unionist Party                19719            0.00     0.00   \n",
       "Cross-Community Labour Alternative             13041            0.00     0.00   \n",
       "Democratic Unionist Party - D.U.P.             13032           11.00    46.55   \n",
       "                                               13040            3.00    25.11   \n",
       "                                               19687            4.00    27.33   \n",
       "Green Party                                    19699          279.07 -2080.65   \n",
       "Independent                                    19746            0.00     0.00   \n",
       "Progressive Unionist Party of Northern Ireland 13037           14.00   198.51   \n",
       "SDLP (Social Democratic & Labour Party)        19745            0.00     0.00   \n",
       "Sinn Féin                                      19680        -1235.10     0.00   \n",
       "Traditional Unionist Voice - TUV               13035            0.00     0.00   \n",
       "Ulster Unionist Party                          8116            15.22   265.48   \n",
       "\n",
       "count_stage                                                       9       10  \\\n",
       "candidate_party_name                           candidate_id                    \n",
       "Alliance - Alliance Party of Northern Ireland  2454             0.00    0.00   \n",
       "                                               13038            0.00 -541.87   \n",
       "Conservative and Unionist Party                19719            0.00    0.00   \n",
       "Cross-Community Labour Alternative             13041            0.00    0.00   \n",
       "Democratic Unionist Party - D.U.P.             13032          484.00    0.00   \n",
       "                                               13040          377.54   65.00   \n",
       "                                               19687          395.52   98.00   \n",
       "Green Party                                    19699            0.00    0.00   \n",
       "Independent                                    19746            0.00    0.00   \n",
       "Progressive Unionist Party of Northern Ireland 13037        -3148.79    0.00   \n",
       "SDLP (Social Democratic & Labour Party)        19745            0.00    0.00   \n",
       "Sinn Féin                                      19680            0.00    0.00   \n",
       "Traditional Unionist Voice - TUV               13035            0.00    0.00   \n",
       "Ulster Unionist Party                          8116          1209.00    0.00   \n",
       "\n",
       "count_stage                                                      11  \n",
       "candidate_party_name                           candidate_id          \n",
       "Alliance - Alliance Party of Northern Ireland  2454            0.00  \n",
       "                                               13038           0.00  \n",
       "Conservative and Unionist Party                19719           0.00  \n",
       "Cross-Community Labour Alternative             13041           0.00  \n",
       "Democratic Unionist Party - D.U.P.             13032           0.00  \n",
       "                                               13040         208.39  \n",
       "                                               19687         317.59  \n",
       "Green Party                                    19699           0.00  \n",
       "Independent                                    19746           0.00  \n",
       "Progressive Unionist Party of Northern Ireland 13037           0.00  \n",
       "SDLP (Social Democratic & Labour Party)        19745           0.00  \n",
       "Sinn Féin                                      19680           0.00  \n",
       "Traditional Unionist Voice - TUV               13035           0.00  \n",
       "Ulster Unionist Party                          8116         -530.62  "
      ]
     },
     "execution_count": 306,
     "metadata": {},
     "output_type": "execute_result"
    }
   ],
   "source": [
    "transfers"
   ]
  },
  {
   "cell_type": "code",
   "execution_count": 381,
   "id": "d6102a77",
   "metadata": {
    "pycharm": {
     "name": "#%%\n"
    }
   },
   "outputs": [
    {
     "name": "stdout",
     "output_type": "stream",
     "text": [
      "2 {('Naomi Long', 883.0)} 0.9432842582106459\n",
      "3 {('Jordy McKeag', 85.43)} 0.9740138124780632\n",
      "4 {('Séamas de Faoite', 260.56)} 0.9441587350322354\n",
      "5 {('Courtney Robinson', 467.81), ('Sheila Bodel', 280.43)} 0.9499625788517051\n",
      "6 {('Andrew Girvin', 958.87)} 0.9330253319010913\n",
      "7 {(\"Mairéad O'Donnell\", 1235.1)} 0.5036191401505952\n",
      "8 {('Georgina Milne', 2080.65)} 0.7036166582558335\n",
      "9 {('John Kyle', 3148.79), ('Chris Lyttle', 541.8699999999999)} 0.6681894295329293\n",
      "10 {('Joanne Bunting', 32.01000000000022), ('David Douglas', 4995.25), ('Andy Allen', 530.6199999999999)} 0.029327729278070053\n"
     ]
    }
   ],
   "source": [
    "## Calculate Transfers \n",
    "transfers = df.set_index(\n",
    "    ['candidate_party_id','candidate_id','count_stage']\n",
    ").sort_index()['count'].groupby('candidate_id').diff().unstack('count_stage')\n",
    "\n",
    "\n",
    "transfer_observations = defaultdict(list) # party -> list(dict)\n",
    "\n",
    "for stage, transfer_instances in transferables.items():\n",
    "    potential_transfers = sum((v for t,v in transfer_instances))\n",
    "    print(stage, {(t['candidate_name'], v) for t,v in transfer_instances}, transfers[transfers>0][stage].sum()/potential_transfers)\n",
    "    this_stage = transfers[transfers>0][stage]\n",
    "    \n",
    "    party_transfers = this_stage.reset_index('candidate_id', drop=True).groupby('candidate_party_id').sum()\n",
    "    party_transfers['non_transferable'] = potential_transfers - party_transfers.sum()\n",
    "    \n",
    "    for t,v in transfer_instances:\n",
    "        # Get the transfers and add them proportional to the ratio between the transfer instance vote and the total potential\n",
    "\n",
    "        transfer_observations[t['candidate_party_id']].append(\n",
    "           (party_transfers/party_transfers.sum()*(v/potential_transfers)).to_dict()\n",
    "        )\n",
    "        \n",
    "        "
   ]
  },
  {
   "cell_type": "code",
   "execution_count": 391,
   "id": "2e8bf7e0",
   "metadata": {
    "pycharm": {
     "name": "#%%\n"
    }
   },
   "outputs": [
    {
     "data": {
      "text/plain": [
       "defaultdict(list,\n",
       "            {'PP103': [{'PP101': 0.017315968289920682,\n",
       "               'PP103': 0.7939184597961492,\n",
       "               'PP305': 0.030645526613816473,\n",
       "               'PP39': 0.011710079275198095,\n",
       "               'PP4037': 0.008471121177802965,\n",
       "               'PP51': 0.0014949037372593355,\n",
       "               'PP55': 0.011834654586636453,\n",
       "               'PP680': 0.0018686296715741532,\n",
       "               'PP70': 0.021177802944508186,\n",
       "               'PP83': 0.043227633069082755,\n",
       "               'ynmp-party:2': 0.0016194790486976295,\n",
       "               'non_transferable': 0.05671574178935413},\n",
       "              {'PP101': 0.0,\n",
       "               'PP103': 0.0,\n",
       "               'PP305': 0.0,\n",
       "               'PP39': 0.0,\n",
       "               'PP4037': 0.0,\n",
       "               'PP51': 0.0,\n",
       "               'PP55': 0.0,\n",
       "               'PP680': 0.0,\n",
       "               'PP70': 0.05000840912281649,\n",
       "               'PP83': 0.04809648435992325,\n",
       "               'ynmp-party:2': 0.0,\n",
       "               'non_transferable': 0.048717084158115785}],\n",
       "             'ynmp-party:2': [{'PP101': 0.061102657146204546,\n",
       "               'PP103': 0.2366850052674734,\n",
       "               'PP305': 0.3069179445159783,\n",
       "               'PP39': 0.024698583635726645,\n",
       "               'PP4037': 0.0819384291232588,\n",
       "               'PP51': 0.024698583635725312,\n",
       "               'PP55': 0.001287603886222798,\n",
       "               'PP680': 0.023410979749502514,\n",
       "               'PP70': 0.09364391899801006,\n",
       "               'PP83': 0.11963010651996084,\n",
       "               'ynmp-party:2': 0.0,\n",
       "               'non_transferable': 0.0259861875219368}],\n",
       "             'PP55': [{'PP101': 0.027709548664414337,\n",
       "               'PP103': 0.405319312250536,\n",
       "               'PP305': 0.15048357384095806,\n",
       "               'PP39': 0.11978047282775574,\n",
       "               'PP4037': 0.04348326680994774,\n",
       "               'PP51': 0.007675775253300583,\n",
       "               'PP55': 0.0,\n",
       "               'PP680': 0.01577371814553275,\n",
       "               'PP70': 0.04647681915873378,\n",
       "               'PP83': 0.12745624808105632,\n",
       "               'ynmp-party:2': 0.0,\n",
       "               'non_transferable': 0.05584126496776462}],\n",
       "             'PP51': [{'PP101': 0.03316895626735436,\n",
       "               'PP103': 0.07360583091947692,\n",
       "               'PP305': 0.11213431349399937,\n",
       "               'PP39': 0.00812444081329644,\n",
       "               'PP4037': 0.0,\n",
       "               'PP51': 0.0,\n",
       "               'PP55': 0.0,\n",
       "               'PP680': 0.017085368442758396,\n",
       "               'PP70': 0.04079250677156952,\n",
       "               'PP83': 0.07112141498643389,\n",
       "               'ynmp-party:2': 0.0,\n",
       "               'non_transferable': 0.01875333317199874}],\n",
       "             'PP4037': [{'PP101': 0.055332059449527654,\n",
       "               'PP103': 0.1227883741484167,\n",
       "               'PP305': 0.18706113181766515,\n",
       "               'PP39': 0.013553095805970142,\n",
       "               'PP4037': 0.0,\n",
       "               'PP51': 0.0,\n",
       "               'PP55': 0.0,\n",
       "               'PP680': 0.028501608997635076,\n",
       "               'PP70': 0.06804957598262645,\n",
       "               'PP83': 0.118643900954975,\n",
       "               'ynmp-party:2': 0.0,\n",
       "               'non_transferable': 0.03128408797629615}],\n",
       "             'PP680': [{'PP101': 0.19223669527673237,\n",
       "               'PP103': 0.041017030462940675,\n",
       "               'PP305': 0.03985941785643521,\n",
       "               'PP39': 0.00231522521301094,\n",
       "               'PP4037': 0.0,\n",
       "               'PP51': 0.0,\n",
       "               'PP55': 0.0,\n",
       "               'PP680': 0.0,\n",
       "               'PP70': 0.37671425740715564,\n",
       "               'PP83': 0.28088270568481644,\n",
       "               'ynmp-party:2': 0.0,\n",
       "               'non_transferable': 0.06697466809890872}],\n",
       "             'PP39': [{'PP101': 0.011335114565622218,\n",
       "               'PP103': 0.23943810217796097,\n",
       "               'PP305': 0.22594931584487102,\n",
       "               'PP39': 0.0,\n",
       "               'PP4037': 0.0,\n",
       "               'PP51': 0.0,\n",
       "               'PP55': 0.0,\n",
       "               'PP680': 0.0,\n",
       "               'PP70': 0.014573718727228565,\n",
       "               'PP83': 0.01232288883491236,\n",
       "               'ynmp-party:2': 0.0,\n",
       "               'non_transferable': 0.4963808598494049}],\n",
       "             'PP305': [{'PP101': 0.09540768509840664,\n",
       "               'PP103': 0.43303775262538147,\n",
       "               'PP305': 0.0,\n",
       "               'PP39': 0.0,\n",
       "               'PP4037': 0.0,\n",
       "               'PP51': 0.0,\n",
       "               'PP55': 0.0,\n",
       "               'PP680': 0.0,\n",
       "               'PP70': 0.04757647850431389,\n",
       "               'PP83': 0.1275947420277315,\n",
       "               'ynmp-party:2': 0.0,\n",
       "               'non_transferable': 0.29638334174416653}],\n",
       "             'PP101': [{'PP101': 0.0,\n",
       "               'PP103': 0.0,\n",
       "               'PP305': 0.0,\n",
       "               'PP39': 0.0,\n",
       "               'PP4037': 0.0,\n",
       "               'PP51': 0.0,\n",
       "               'PP55': 0.0,\n",
       "               'PP680': 0.0,\n",
       "               'PP70': 0.2905973361910299,\n",
       "               'PP83': 0.27948719985915954,\n",
       "               'ynmp-party:2': 0.0,\n",
       "               'non_transferable': 0.283093486308955}],\n",
       "             'PP70': [{'PP101': 0.0,\n",
       "               'PP103': 0.0,\n",
       "               'PP305': 0.0,\n",
       "               'PP39': 0.0,\n",
       "               'PP4037': 0.0,\n",
       "               'PP51': 0.0,\n",
       "               'PP55': 0.0,\n",
       "               'PP680': 0.0,\n",
       "               'PP70': 0.02635885259780338,\n",
       "               'PP83': 0.0,\n",
       "               'ynmp-party:2': 0.0,\n",
       "               'non_transferable': 0.8724101024713957},\n",
       "              {'PP101': 0.0,\n",
       "               'PP103': 0.0,\n",
       "               'PP305': 0.0,\n",
       "               'PP39': 0.0,\n",
       "               'PP4037': 0.0,\n",
       "               'PP51': 0.0,\n",
       "               'PP55': 0.0,\n",
       "               'PP680': 0.0,\n",
       "               'PP70': 0.00016890983867788237,\n",
       "               'PP83': 0.0,\n",
       "               'ynmp-party:2': 0.0,\n",
       "               'non_transferable': 0.005590480432432724}],\n",
       "             'PP83': [{'PP101': 0.0,\n",
       "               'PP103': 0.0,\n",
       "               'PP305': 0.0,\n",
       "               'PP39': 0.0,\n",
       "               'PP4037': 0.0,\n",
       "               'PP51': 0.0,\n",
       "               'PP55': 0.0,\n",
       "               'PP680': 0.0,\n",
       "               'PP70': 0.0027999668415887944,\n",
       "               'PP83': 0.0,\n",
       "               'ynmp-party:2': 0.0,\n",
       "               'non_transferable': 0.09267168781810158}]})"
      ]
     },
     "execution_count": 391,
     "metadata": {},
     "output_type": "execute_result"
    }
   ],
   "source": [
    "transfer_observations"
   ]
  },
  {
   "cell_type": "code",
   "execution_count": 370,
   "id": "60f853b7",
   "metadata": {
    "pycharm": {
     "name": "#%%\n"
    }
   },
   "outputs": [
    {
     "data": {
      "text/plain": [
       "832.9200000000003"
      ]
     },
     "execution_count": 370,
     "metadata": {},
     "output_type": "execute_result"
    }
   ],
   "source": [
    "this_stage.sum()"
   ]
  },
  {
   "cell_type": "code",
   "execution_count": 317,
   "id": "7d5c5413",
   "metadata": {
    "pycharm": {
     "name": "#%%\n"
    }
   },
   "outputs": [
    {
     "data": {
      "text/plain": [
       "count_stage\n",
       "1        0.00\n",
       "2      832.92\n",
       "3       83.21\n",
       "4      246.01\n",
       "5      710.80\n",
       "6      894.65\n",
       "7      622.02\n",
       "8     1463.98\n",
       "9     2466.06\n",
       "10     163.00\n",
       "11     525.98\n",
       "dtype: float64"
      ]
     },
     "execution_count": 317,
     "metadata": {},
     "output_type": "execute_result"
    }
   ],
   "source": [
    "# observed transfers\n",
    "transfers[transfers>0].sum()"
   ]
  }
 ],
 "metadata": {
  "kernelspec": {
   "display_name": "Django Shell-Plus",
   "language": "python",
   "name": "django_extensions"
  },
  "language_info": {
   "codemirror_mode": {
    "name": "ipython",
    "version": 3
   },
   "file_extension": ".py",
   "mimetype": "text/x-python",
   "name": "python",
   "nbconvert_exporter": "python",
   "pygments_lexer": "ipython3",
   "version": "3.10.4"
  }
 },
 "nbformat": 4,
 "nbformat_minor": 5
}